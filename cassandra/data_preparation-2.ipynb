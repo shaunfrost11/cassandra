{
 "cells": [
  {
   "cell_type": "code",
   "execution_count": 1,
   "metadata": {},
   "outputs": [],
   "source": [
    "import pandas as pd"
   ]
  },
  {
   "cell_type": "code",
   "execution_count": 2,
   "metadata": {},
   "outputs": [],
   "source": [
    "df_train = pd.read_csv('dataset/delhivery_data.csv')\n",
    "\n",
    "df_test = pd.read_csv('dataset/test_data.csv')"
   ]
  },
  {
   "cell_type": "code",
   "execution_count": 11,
   "metadata": {},
   "outputs": [],
   "source": [
    "df = df_train.copy()"
   ]
  },
  {
   "cell_type": "code",
   "execution_count": 13,
   "metadata": {},
   "outputs": [
    {
     "data": {
      "text/plain": [
       "0"
      ]
     },
     "execution_count": 13,
     "metadata": {},
     "output_type": "execute_result"
    }
   ],
   "source": [
    "df.isnull().any().sum()"
   ]
  },
  {
   "cell_type": "code",
   "execution_count": 3,
   "metadata": {},
   "outputs": [],
   "source": [
    "from sklearn.preprocessing import LabelBinarizer\n",
    "from sklearn.preprocessing import OneHotEncoder"
   ]
  },
  {
   "cell_type": "code",
   "execution_count": 4,
   "metadata": {},
   "outputs": [],
   "source": [
    "df_train[['trip_creation_date','trip_creation_clk']] = df_train['trip_creation_time'].str.split(' ', expand=True)\n",
    "df_train[['trip_creation_year','trip_creation_month','trip_creation_day']] = df_train['trip_creation_date'].str.split('-', expand=True)\n",
    "df_train[['trip_creation_hour','trip_creation_min','trip_creation_sec']] = df_train['trip_creation_clk'].str.split(':', expand=True)\n",
    "df_train[['trip_creation_year','trip_creation_month','trip_creation_day','trip_creation_hour','trip_creation_min','trip_creation_sec']] = df_train[['trip_creation_year','trip_creation_month','trip_creation_day','trip_creation_hour','trip_creation_min','trip_creation_sec']].astype(float)\n",
    "df_train = df_train.drop(['trip_creation_time','trip_creation_date','trip_creation_clk'], axis=1)\n",
    "\n",
    "df_test[['trip_creation_date','trip_creation_clk']] = df_test['trip_creation_time'].str.split(' ', expand=True)\n",
    "df_test[['trip_creation_year','trip_creation_month','trip_creation_day']] = df_test['trip_creation_date'].str.split('-', expand=True)\n",
    "df_test[['trip_creation_hour','trip_creation_min','trip_creation_sec']] = df_test['trip_creation_clk'].str.split(':', expand=True)\n",
    "df_test[['trip_creation_year','trip_creation_month','trip_creation_day','trip_creation_hour','trip_creation_min','trip_creation_sec']] = df_test[['trip_creation_year','trip_creation_month','trip_creation_day','trip_creation_hour','trip_creation_min','trip_creation_sec']].astype(float)\n",
    "df_test = df_test.drop(['trip_creation_time','trip_creation_date','trip_creation_clk'], axis=1)"
   ]
  },
  {
   "cell_type": "code",
   "execution_count": 5,
   "metadata": {},
   "outputs": [],
   "source": [
    "df_train['route_schedule_uuid'] = df_train['route_schedule_uuid'].str.replace('thanos::sroute:', '')\n",
    "df_train['route_schedule_uuid'] = df_train['route_schedule_uuid'].interpolate(method ='nearest', fill_value='extrapolate', limit_direction ='forward')\n",
    "\n",
    "df_train = df_train.drop(['route_schedule_uuid'], axis=1)\n",
    "\n",
    "df_test['route_schedule_uuid'] = df_test['route_schedule_uuid'].str.replace('thanos::sroute:', '')\n",
    "df_test['route_schedule_uuid'] = df_test['route_schedule_uuid'].interpolate(method ='nearest', fill_value='extrapolate', limit_direction ='forward')\n",
    "\n",
    "df_test = df_test.drop(['route_schedule_uuid'], axis=1)"
   ]
  },
  {
   "cell_type": "code",
   "execution_count": 6,
   "metadata": {},
   "outputs": [],
   "source": [
    "encoder = LabelBinarizer()\n",
    "df_train['route_type'] = encoder.fit_transform(df_train['route_type'])\n",
    "\n",
    "df_test['route_type'] = encoder.transform(df_test['route_type'])"
   ]
  },
  {
   "cell_type": "code",
   "execution_count": 7,
   "metadata": {},
   "outputs": [],
   "source": [
    "df_train['trip_uuid'] = df_train['trip_uuid'].str.replace('trip-', '')\n",
    "\n",
    "df_train = df_train.drop(['trip_uuid'], axis=1)\n",
    "\n",
    "df_test['trip_uuid'] = df_test['trip_uuid'].str.replace('trip-', '')\n",
    "\n",
    "df_train = df_train.drop(['trip_uuid'], axis=1)"
   ]
  },
  {
   "cell_type": "code",
   "execution_count": 8,
   "metadata": {},
   "outputs": [
    {
     "name": "stderr",
     "output_type": "stream",
     "text": [
      "C:\\Users\\HP\\AppData\\Local\\Temp\\ipykernel_19820\\1710475412.py:1: FutureWarning: The default value of regex will change from True to False in a future version.\n",
      "  df_train['source_center_number'] = df_train['source_center'].str.replace('[ABCDEFGHIJKLMNOPQRSTUVWXYZ]', '')\n",
      "C:\\Users\\HP\\AppData\\Local\\Temp\\ipykernel_19820\\1710475412.py:4: FutureWarning: The default value of regex will change from True to False in a future version.\n",
      "  df_train['destination_center_number'] = df_train['destination_center'].str.replace('[ABCDEFGHIJKLMNOPQRSTUVWXYZ]', '')\n",
      "C:\\Users\\HP\\AppData\\Local\\Temp\\ipykernel_19820\\1710475412.py:8: FutureWarning: The default value of regex will change from True to False in a future version.\n",
      "  df_test['source_center_number'] = df_test['source_center'].str.replace('[ABCDEFGHIJKLMNOPQRSTUVWXYZ]', '')\n",
      "C:\\Users\\HP\\AppData\\Local\\Temp\\ipykernel_19820\\1710475412.py:11: FutureWarning: The default value of regex will change from True to False in a future version.\n",
      "  df_test['destination_center_number'] = df_test['destination_center'].str.replace('[ABCDEFGHIJKLMNOPQRSTUVWXYZ]', '')\n"
     ]
    }
   ],
   "source": [
    "df_train['source_center_number'] = df_train['source_center'].str.replace('[ABCDEFGHIJKLMNOPQRSTUVWXYZ]', '')\n",
    "df_train['source_center_number'] = df_train[['source_center_number']].astype(float)\n",
    "df_train = df_train.drop(['source_center'], axis=1)\n",
    "df_train['destination_center_number'] = df_train['destination_center'].str.replace('[ABCDEFGHIJKLMNOPQRSTUVWXYZ]', '')\n",
    "df_train['destination_center_number'] = df_train[['destination_center_number']].astype(float)\n",
    "df_train = df_train.drop(['destination_center'], axis=1)\n",
    "\n",
    "df_test['source_center_number'] = df_test['source_center'].str.replace('[ABCDEFGHIJKLMNOPQRSTUVWXYZ]', '')\n",
    "df_test['source_center_number'] = df_test[['source_center_number']].astype(float)\n",
    "df_test = df_test.drop(['source_center'], axis=1)\n",
    "df_test['destination_center_number'] = df_test['destination_center'].str.replace('[ABCDEFGHIJKLMNOPQRSTUVWXYZ]', '')\n",
    "df_test['destination_center_number'] = df_test[['destination_center_number']].astype(float)\n",
    "df_test = df_test.drop(['destination_center'], axis=1)"
   ]
  },
  {
   "cell_type": "code",
   "execution_count": 9,
   "metadata": {},
   "outputs": [],
   "source": [
    "df_train['source_center_number'] = df_train['source_center_number'].interpolate(method ='nearest', fill_value='extrapolate', limit_direction ='forward')\n",
    "df_train['source_center_number'] = df_train[['source_center_number']].astype(str)\n",
    "df_train['destination_center_number'] = df_train['destination_center_number'].interpolate(method ='nearest', fill_value='extrapolate', limit_direction ='forward')\n",
    "df_train['destination_center_number'] = df_train[['destination_center_number']].astype(str)\n",
    "\n",
    "df_test['source_center_number'] = df_test['source_center_number'].interpolate(method ='nearest', fill_value='extrapolate', limit_direction ='forward')\n",
    "df_test['source_center_number'] = df_test[['source_center_number']].astype(str)\n",
    "df_test['destination_center_number'] = df_test['destination_center_number'].interpolate(method ='nearest', fill_value='extrapolate', limit_direction ='forward')\n",
    "df_test['destination_center_number'] = df_test[['destination_center_number']].astype(str)"
   ]
  },
  {
   "cell_type": "code",
   "execution_count": 10,
   "metadata": {},
   "outputs": [
    {
     "name": "stderr",
     "output_type": "stream",
     "text": [
      "C:\\Users\\HP\\AppData\\Local\\Temp\\ipykernel_19820\\3639122290.py:1: FutureWarning: The default value of regex will change from True to False in a future version. In addition, single character regular expressions will *not* be treated as literal strings when regex=True.\n",
      "  df_train['source_name'] = df_train['source_name'].str.replace('(', ' ')\n",
      "C:\\Users\\HP\\AppData\\Local\\Temp\\ipykernel_19820\\3639122290.py:2: FutureWarning: The default value of regex will change from True to False in a future version. In addition, single character regular expressions will *not* be treated as literal strings when regex=True.\n",
      "  df_train['source_name'] = df_train['source_name'].str.replace(')', '')\n",
      "C:\\Users\\HP\\AppData\\Local\\Temp\\ipykernel_19820\\3639122290.py:10: FutureWarning: The default value of regex will change from True to False in a future version. In addition, single character regular expressions will *not* be treated as literal strings when regex=True.\n",
      "  df_train['destination_name'] = df_train['destination_name'].str.replace('(', ' ')\n",
      "C:\\Users\\HP\\AppData\\Local\\Temp\\ipykernel_19820\\3639122290.py:11: FutureWarning: The default value of regex will change from True to False in a future version. In addition, single character regular expressions will *not* be treated as literal strings when regex=True.\n",
      "  df_train['destination_name'] = df_train['destination_name'].str.replace(')', '')\n",
      "C:\\Users\\HP\\AppData\\Local\\Temp\\ipykernel_19820\\3639122290.py:20: FutureWarning: The default value of regex will change from True to False in a future version. In addition, single character regular expressions will *not* be treated as literal strings when regex=True.\n",
      "  df_test['source_name'] = df_test['source_name'].str.replace('(', ' ')\n",
      "C:\\Users\\HP\\AppData\\Local\\Temp\\ipykernel_19820\\3639122290.py:21: FutureWarning: The default value of regex will change from True to False in a future version. In addition, single character regular expressions will *not* be treated as literal strings when regex=True.\n",
      "  df_test['source_name'] = df_test['source_name'].str.replace(')', '')\n",
      "C:\\Users\\HP\\AppData\\Local\\Temp\\ipykernel_19820\\3639122290.py:28: FutureWarning: The default value of regex will change from True to False in a future version. In addition, single character regular expressions will *not* be treated as literal strings when regex=True.\n",
      "  df_test['destination_name'] = df_test['destination_name'].str.replace('(', ' ')\n",
      "C:\\Users\\HP\\AppData\\Local\\Temp\\ipykernel_19820\\3639122290.py:29: FutureWarning: The default value of regex will change from True to False in a future version. In addition, single character regular expressions will *not* be treated as literal strings when regex=True.\n",
      "  df_test['destination_name'] = df_test['destination_name'].str.replace(')', '')\n"
     ]
    }
   ],
   "source": [
    "df_train['source_name'] = df_train['source_name'].str.replace('(', ' ')\n",
    "df_train['source_name'] = df_train['source_name'].str.replace(')', '')\n",
    "df_train[['source_name_gali','source_name_city']] = df_train['source_name'].str.split('  ', expand=True)\n",
    "df_train = df_train.drop(['source_name','source_name_gali'], axis=1)\n",
    "encoder_1 = OneHotEncoder(handle_unknown='ignore')\n",
    "df_source_name_city = pd.DataFrame(encoder_1.fit_transform(df_train[['source_name_city']]).toarray())\n",
    "df_source_name_city = df_source_name_city.add_prefix('source_name_city_')\n",
    "df_train = df_train.join(df_source_name_city)\n",
    "df_train = df_train.drop(['source_name_city'], axis=1)\n",
    "df_train['destination_name'] = df_train['destination_name'].str.replace('(', ' ')\n",
    "df_train['destination_name'] = df_train['destination_name'].str.replace(')', '')\n",
    "df_train[['destination_name_gali','destination_name_city']] = df_train['destination_name'].str.split('  ', expand=True)\n",
    "df_train = df_train.drop(['destination_name','destination_name_gali'], axis=1)\n",
    "encoder_2 = OneHotEncoder(handle_unknown='ignore')\n",
    "df_source_name_city = pd.DataFrame(encoder_2.fit_transform(df_train[['destination_name_city']]).toarray())\n",
    "df_source_name_city = df_source_name_city.add_prefix('destination_name_city_')\n",
    "df_train = df_train.join(df_source_name_city)\n",
    "df_train = df_train.drop(['destination_name_city'], axis=1)\n",
    "\n",
    "df_test['source_name'] = df_test['source_name'].str.replace('(', ' ')\n",
    "df_test['source_name'] = df_test['source_name'].str.replace(')', '')\n",
    "df_test[['source_name_gali','source_name_city']] = df_test['source_name'].str.split('  ', expand=True)\n",
    "df_test = df_test.drop(['source_name','source_name_gali'], axis=1)\n",
    "df_source_name_city = pd.DataFrame(encoder_1.transform(df_test[['source_name_city']]).toarray())\n",
    "df_source_name_city = df_source_name_city.add_prefix('source_name_city_')\n",
    "df_test = df_test.join(df_source_name_city)\n",
    "df_test = df_test.drop(['source_name_city'], axis=1)\n",
    "df_test['destination_name'] = df_test['destination_name'].str.replace('(', ' ')\n",
    "df_test['destination_name'] = df_test['destination_name'].str.replace(')', '')\n",
    "df_test[['destination_name_gali','destination_name_city']] = df_test['destination_name'].str.split('  ', expand=True)\n",
    "df_test = df_test.drop(['destination_name','destination_name_gali'], axis=1)\n",
    "df_source_name_city = pd.DataFrame(encoder_2.transform(df_test[['destination_name_city']]).toarray())\n",
    "df_source_name_city = df_source_name_city.add_prefix('destination_name_city_')\n",
    "df_test = df_test.join(df_source_name_city)\n",
    "df_test = df_test.drop(['destination_name_city'], axis=1)"
   ]
  },
  {
   "cell_type": "code",
   "execution_count": 80,
   "metadata": {},
   "outputs": [],
   "source": [
    "df_train[['od_start_date','od_start_clk']] = df_train['od_start_time'].str.split(' ', expand=True)\n",
    "df_train[['od_start_year','od_start_month','od_start_day']] = df_train['od_start_date'].str.split('-', expand=True)\n",
    "df_train[['od_start_hour','od_start_min','od_start_sec']] = df_train['od_start_clk'].str.split(':', expand=True)\n",
    "df_train[['od_start_year','od_start_month','od_start_day','od_start_hour','od_start_min','od_start_sec']] = df_train[['od_start_year','od_start_month','od_start_day','od_start_hour','od_start_min','od_start_sec']].astype(float)\n",
    "df_train = df_train.drop(['od_start_time','od_start_date','od_start_clk'], axis=1)\n",
    "\n",
    "df_test[['od_start_date','od_start_clk']] = df_test['od_start_time'].str.split(' ', expand=True)\n",
    "df_test[['od_start_year','od_start_month','od_start_day']] = df_test['od_start_date'].str.split('-', expand=True)\n",
    "df_test[['od_start_hour','od_start_min','od_start_sec']] = df_test['od_start_clk'].str.split(':', expand=True)\n",
    "df_test[['od_start_year','od_start_month','od_start_day','od_start_hour','od_start_min','od_start_sec']] = df_test[['od_start_year','od_start_month','od_start_day','od_start_hour','od_start_min','od_start_sec']].astype(float)\n",
    "df_test = df_test.drop(['od_start_time','od_start_date','od_start_clk'], axis=1)"
   ]
  },
  {
   "cell_type": "code",
   "execution_count": 81,
   "metadata": {},
   "outputs": [],
   "source": [
    "df_train[['od_end_date','od_end_clk']] = df_train['od_end_time'].str.split(' ', expand=True)\n",
    "df_train[['od_end_year','od_end_month','od_end_day']] = df_train['od_end_date'].str.split('-', expand=True)\n",
    "df_train[['od_end_hour','od_end_min','od_end_sec']] = df_train['od_end_clk'].str.split(':', expand=True)\n",
    "df_train[['od_end_year','od_end_month','od_end_day','od_end_hour','od_end_min','od_end_sec']] = df_train[['od_end_year','od_end_month','od_end_day','od_end_hour','od_end_min','od_end_sec']].astype(float)\n",
    "df_train = df_train.drop(['od_end_time','od_end_date','od_end_clk'], axis=1)\n",
    "\n",
    "df_test[['od_end_date','od_end_clk']] = df_test['od_end_time'].str.split(' ', expand=True)\n",
    "df_test[['od_end_year','od_end_month','od_end_day']] = df_test['od_end_date'].str.split('-', expand=True)\n",
    "df_test[['od_end_hour','od_end_min','od_end_sec']] = df_test['od_end_clk'].str.split(':', expand=True)\n",
    "df_test[['od_end_year','od_end_month','od_end_day','od_end_hour','od_end_min','od_end_sec']] = df_test[['od_end_year','od_end_month','od_end_day','od_end_hour','od_end_min','od_end_sec']].astype(float)\n",
    "df_test = df_test.drop(['od_end_time','od_end_date','od_end_clk'], axis=1)"
   ]
  },
  {
   "cell_type": "code",
   "execution_count": 82,
   "metadata": {},
   "outputs": [],
   "source": [
    "encoder = LabelBinarizer()\n",
    "df_train['is_cutoff'] = encoder.fit_transform(df_train['is_cutoff'])\n",
    "\n",
    "df_test['is_cutoff'] = encoder.transform(df_test['is_cutoff'])"
   ]
  },
  {
   "cell_type": "code",
   "execution_count": 83,
   "metadata": {},
   "outputs": [],
   "source": [
    "df_train[['cutoff_timestamp_date','cutoff_timestamp_clk']] = df_train['cutoff_timestamp'].str.split(' ', expand=True)\n",
    "df_train[['cutoff_timestamp_year','cutoff_timestamp_month','cutoff_timestamp_day']] = df_train['cutoff_timestamp_date'].str.split('-', expand=True)\n",
    "df_train[['cutoff_timestamp_hour','cutoff_timestamp_min','cutoff_timestamp_sec']] = df_train['cutoff_timestamp_clk'].str.split(':', expand=True)\n",
    "df_train[['cutoff_timestamp_year','cutoff_timestamp_month','cutoff_timestamp_day','cutoff_timestamp_hour','cutoff_timestamp_min','cutoff_timestamp_sec']] = df_train[['cutoff_timestamp_year','cutoff_timestamp_month','cutoff_timestamp_day','cutoff_timestamp_hour','cutoff_timestamp_min','cutoff_timestamp_sec']].astype(float)\n",
    "df_train = df_train.drop(['cutoff_timestamp','cutoff_timestamp_date','cutoff_timestamp_clk'], axis=1)\n",
    "\n",
    "df_test[['cutoff_timestamp_date','cutoff_timestamp_clk']] = df_test['cutoff_timestamp'].str.split(' ', expand=True)\n",
    "df_test[['cutoff_timestamp_year','cutoff_timestamp_month','cutoff_timestamp_day']] = df_test['cutoff_timestamp_date'].str.split('-', expand=True)\n",
    "df_test[['cutoff_timestamp_hour','cutoff_timestamp_min','cutoff_timestamp_sec']] = df_test['cutoff_timestamp_clk'].str.split(':', expand=True)\n",
    "df_test[['cutoff_timestamp_year','cutoff_timestamp_month','cutoff_timestamp_day','cutoff_timestamp_hour','cutoff_timestamp_min','cutoff_timestamp_sec']] = df_test[['cutoff_timestamp_year','cutoff_timestamp_month','cutoff_timestamp_day','cutoff_timestamp_hour','cutoff_timestamp_min','cutoff_timestamp_sec']].astype(float)\n",
    "df_test = df_test.drop(['cutoff_timestamp','cutoff_timestamp_date','cutoff_timestamp_clk'], axis=1)"
   ]
  },
  {
   "cell_type": "code",
   "execution_count": 84,
   "metadata": {},
   "outputs": [],
   "source": [
    "df_train['segment_key'] = df_train['trip_uuid'] + df_train['route_schedule_uuid'] + df_train['source_center_number'] + df_train['destination_center_number']\n",
    "segment_cols = ['segment_actual_time', 'segment_osrm_distance', 'segment_osrm_time']\n",
    "for col in segment_cols:\n",
    "    df_train[col + '_sum'] = df_train.groupby('segment_key')[col].cumsum()\n",
    "df_train = df_train.drop(['route_schedule_uuid','segment_key'], axis=1)\n",
    "\n",
    "df_test['segment_key'] = df_test['trip_uuid'] + df_test['route_schedule_uuid'] + df_test['source_center_number'] + df_test['destination_center_number']\n",
    "segment_cols = ['segment_actual_time', 'segment_osrm_distance', 'segment_osrm_time']\n",
    "for col in segment_cols:\n",
    "    df_test[col + '_sum'] = df_test.groupby('segment_key')[col].cumsum()\n",
    "df_test = df_test.drop(['route_schedule_uuid','segment_key'], axis=1)"
   ]
  },
  {
   "cell_type": "code",
   "execution_count": 85,
   "metadata": {},
   "outputs": [],
   "source": [
    "import hashlib\n",
    "\n",
    "df_train[['trip_uuid','source_center_number','destination_center_number']] = df_train[['trip_uuid','source_center_number','destination_center_number']].astype(str)\n",
    "df_test[['trip_uuid','source_center_number','destination_center_number']] = df_test[['trip_uuid','source_center_number','destination_center_number']].astype(str)"
   ]
  },
  {
   "cell_type": "code",
   "execution_count": 86,
   "metadata": {},
   "outputs": [],
   "source": [
    "df_train['trip_uuid'] = df_train['trip_uuid'].apply(lambda x: int(hashlib.sha256(x.encode('utf-8')).hexdigest(), 16) % 10**6)\n",
    "df_train['source_center_number'] = df_train['source_center_number'].apply(lambda x: int(hashlib.sha256(x.encode('utf-8')).hexdigest(), 16) % 10**6)\n",
    "df_train['destination_center_number'] = df_train['destination_center_number'].apply(lambda x: int(hashlib.sha256(x.encode('utf-8')).hexdigest(), 16) % 10**6)\n",
    "\n",
    "df_test['trip_uuid'] = df_test['trip_uuid'].apply(lambda x: int(hashlib.sha256(x.encode('utf-8')).hexdigest(), 16) % 10**6)\n",
    "df_test['source_center_number'] = df_test['source_center_number'].apply(lambda x: int(hashlib.sha256(x.encode('utf-8')).hexdigest(), 16) % 10**6)\n",
    "df_test['destination_center_number'] = df_test['destination_center_number'].apply(lambda x: int(hashlib.sha256(x.encode('utf-8')).hexdigest(), 16) % 10**6)"
   ]
  },
  {
   "cell_type": "code",
   "execution_count": 87,
   "metadata": {},
   "outputs": [],
   "source": [
    "df_train = df_train.interpolate(method ='nearest', fill_value='extrapolate', limit_direction ='forward')\n",
    "\n",
    "df_test = df_test.interpolate(method ='nearest', fill_value='extrapolate', limit_direction ='forward')"
   ]
  },
  {
   "cell_type": "code",
   "execution_count": 88,
   "metadata": {},
   "outputs": [],
   "source": [
    "import numpy as np"
   ]
  },
  {
   "cell_type": "code",
   "execution_count": 89,
   "metadata": {},
   "outputs": [],
   "source": [
    "x_train_df = df_train.drop(['UID','actual_time'], axis=1)\n",
    "x_train = x_train_df.to_numpy()\n",
    "\n",
    "y_train_df = df_train['actual_time']\n",
    "y_train = y_train_df.to_numpy()\n",
    "\n",
    "x_test_df = df_test.drop(['UID'], axis=1)\n",
    "x_test = x_test_df.to_numpy()"
   ]
  },
  {
   "cell_type": "code",
   "execution_count": 90,
   "metadata": {},
   "outputs": [],
   "source": [
    "np.save('log/x_train', x_train)\n",
    "np.save('log/y_train', y_train)\n",
    "\n",
    "np.save('log/x_test', x_test)\n",
    "df_test['UID'].to_csv('log/pred.csv', index=False)"
   ]
  },
  {
   "cell_type": "code",
   "execution_count": 91,
   "metadata": {},
   "outputs": [
    {
     "name": "stdout",
     "output_type": "stream",
     "text": [
      "float64 float64 float64\n"
     ]
    }
   ],
   "source": [
    "print(x_train.dtype, y_train.dtype, x_test.dtype)"
   ]
  }
 ],
 "metadata": {
  "kernelspec": {
   "display_name": "Python 3",
   "language": "python",
   "name": "python3"
  },
  "language_info": {
   "codemirror_mode": {
    "name": "ipython",
    "version": 3
   },
   "file_extension": ".py",
   "mimetype": "text/x-python",
   "name": "python",
   "nbconvert_exporter": "python",
   "pygments_lexer": "ipython3",
   "version": "3.10.2"
  },
  "orig_nbformat": 4
 },
 "nbformat": 4,
 "nbformat_minor": 2
}
