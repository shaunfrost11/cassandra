{
 "cells": [
  {
   "cell_type": "code",
   "execution_count": 1,
   "metadata": {},
   "outputs": [],
   "source": [
    "import pandas as pd"
   ]
  },
  {
   "cell_type": "code",
   "execution_count": 19,
   "metadata": {},
   "outputs": [
    {
     "data": {
      "text/html": [
       "<div>\n",
       "<style scoped>\n",
       "    .dataframe tbody tr th:only-of-type {\n",
       "        vertical-align: middle;\n",
       "    }\n",
       "\n",
       "    .dataframe tbody tr th {\n",
       "        vertical-align: top;\n",
       "    }\n",
       "\n",
       "    .dataframe thead th {\n",
       "        text-align: right;\n",
       "    }\n",
       "</style>\n",
       "<table border=\"1\" class=\"dataframe\">\n",
       "  <thead>\n",
       "    <tr style=\"text-align: right;\">\n",
       "      <th></th>\n",
       "      <th>UID</th>\n",
       "      <th>trip_creation_time</th>\n",
       "      <th>route_schedule_uuid</th>\n",
       "      <th>route_type</th>\n",
       "      <th>trip_uuid</th>\n",
       "      <th>source_center</th>\n",
       "      <th>source_name</th>\n",
       "      <th>destination_center</th>\n",
       "      <th>destination_name</th>\n",
       "      <th>od_start_time</th>\n",
       "      <th>...</th>\n",
       "      <th>cutoff_timestamp</th>\n",
       "      <th>actual_distance_to_destination</th>\n",
       "      <th>osrm_time</th>\n",
       "      <th>osrm_distance</th>\n",
       "      <th>factor</th>\n",
       "      <th>segment_actual_time</th>\n",
       "      <th>segment_osrm_time</th>\n",
       "      <th>segment_osrm_distance</th>\n",
       "      <th>segment_factor</th>\n",
       "      <th>actual_time</th>\n",
       "    </tr>\n",
       "  </thead>\n",
       "  <tbody>\n",
       "    <tr>\n",
       "      <th>0</th>\n",
       "      <td>lWYYrbNEdf</td>\n",
       "      <td>2018-09-15 02:23:18.656742</td>\n",
       "      <td>thanos::sroute:9d8ed3f7-a8af-4393-ad7a-c57a720...</td>\n",
       "      <td>FTL</td>\n",
       "      <td>trip-153697819865649878</td>\n",
       "      <td>IND832109AAB</td>\n",
       "      <td>Jamshedpur_Central_I_3 (Jharkhand)</td>\n",
       "      <td>IND834002AAB</td>\n",
       "      <td>Ranchi_Hub (Jharkhand)</td>\n",
       "      <td>2018-09-15 02:23:18.656742</td>\n",
       "      <td>...</td>\n",
       "      <td>2018-09-15 04:45:23</td>\n",
       "      <td>158.807515</td>\n",
       "      <td>778.672716</td>\n",
       "      <td>1228.735753</td>\n",
       "      <td>2.782826</td>\n",
       "      <td>77.988686</td>\n",
       "      <td>20.793472</td>\n",
       "      <td>28.475783</td>\n",
       "      <td>3.292773</td>\n",
       "      <td>100.0</td>\n",
       "    </tr>\n",
       "    <tr>\n",
       "      <th>1</th>\n",
       "      <td>iNJcHQlPCm</td>\n",
       "      <td>2018-09-30 15:07:48.971326</td>\n",
       "      <td>thanos::sroute:b9142a73-d68f-46ec-9afc-d145479...</td>\n",
       "      <td>FTL</td>\n",
       "      <td>trip-153832006897106333</td>\n",
       "      <td>IND422011AAD</td>\n",
       "      <td>Nashik_TgrniaRD_I (Maharashtra)</td>\n",
       "      <td>IND421302AAG</td>\n",
       "      <td>Bhiwandi_Mankoli_HB (Maharashtra)</td>\n",
       "      <td>2018-09-30 22:38:13.903069</td>\n",
       "      <td>...</td>\n",
       "      <td>2018-10-01 05:38:30</td>\n",
       "      <td>81.388109</td>\n",
       "      <td>227.479029</td>\n",
       "      <td>NaN</td>\n",
       "      <td>3.625248</td>\n",
       "      <td>68.517914</td>\n",
       "      <td>18.787231</td>\n",
       "      <td>34.612259</td>\n",
       "      <td>4.277350</td>\n",
       "      <td>61.0</td>\n",
       "    </tr>\n",
       "    <tr>\n",
       "      <th>2</th>\n",
       "      <td>U6N0M43qwR</td>\n",
       "      <td>2018-09-23 22:15:46.635975</td>\n",
       "      <td>thanos::sroute:883e99fa-50a3-40e0-a2e2-9b12ed6...</td>\n",
       "      <td>FTL</td>\n",
       "      <td>trip-153774094663572416</td>\n",
       "      <td>IND845305AAA</td>\n",
       "      <td>Raxaul_KairiyaT_D (Bihar)</td>\n",
       "      <td>NaN</td>\n",
       "      <td>Muzaffrpur_Bbganj_I (Bihar)</td>\n",
       "      <td>2018-09-24 03:56:37.016232</td>\n",
       "      <td>...</td>\n",
       "      <td>2018-09-24 09:21:30</td>\n",
       "      <td>134.486898</td>\n",
       "      <td>400.072069</td>\n",
       "      <td>1188.943158</td>\n",
       "      <td>4.415969</td>\n",
       "      <td>70.475386</td>\n",
       "      <td>24.371978</td>\n",
       "      <td>29.867950</td>\n",
       "      <td>5.322072</td>\n",
       "      <td>69.0</td>\n",
       "    </tr>\n",
       "    <tr>\n",
       "      <th>3</th>\n",
       "      <td>RrJUneuYNj</td>\n",
       "      <td>2018-09-21 05:11:44.833176</td>\n",
       "      <td>thanos::sroute:96a80600-40e1-436b-9161-fa68f9e...</td>\n",
       "      <td>FTL</td>\n",
       "      <td>trip-153750670483274503</td>\n",
       "      <td>IND842001AAA</td>\n",
       "      <td>Muzaffrpur_Bbganj_I (Bihar)</td>\n",
       "      <td>IND854326AAB</td>\n",
       "      <td>Purnia_Central_H_2 (Bihar)</td>\n",
       "      <td>2018-09-22 10:08:32.593022</td>\n",
       "      <td>...</td>\n",
       "      <td>2018-09-22 14:09:17</td>\n",
       "      <td>262.866674</td>\n",
       "      <td>510.123878</td>\n",
       "      <td>999.421258</td>\n",
       "      <td>2.946647</td>\n",
       "      <td>101.876844</td>\n",
       "      <td>19.588977</td>\n",
       "      <td>27.794019</td>\n",
       "      <td>4.265799</td>\n",
       "      <td>300.0</td>\n",
       "    </tr>\n",
       "    <tr>\n",
       "      <th>4</th>\n",
       "      <td>7QLdD7iRC9</td>\n",
       "      <td>2018-09-18 01:10:49.936747</td>\n",
       "      <td>thanos::sroute:b43ec86d-59c1-452c-b4a9-807d357...</td>\n",
       "      <td>FTL</td>\n",
       "      <td>trip-153723305402762987</td>\n",
       "      <td>IND411033AAA</td>\n",
       "      <td>Pune_Tathawde_H (Maharashtra)</td>\n",
       "      <td>IND501359AAE</td>\n",
       "      <td>Hyderabad_Shamshbd_H (Telangana)</td>\n",
       "      <td>2018-09-18 01:10:49.936747</td>\n",
       "      <td>...</td>\n",
       "      <td>2018-09-18 12:14:05</td>\n",
       "      <td>379.389280</td>\n",
       "      <td>NaN</td>\n",
       "      <td>NaN</td>\n",
       "      <td>1.998790</td>\n",
       "      <td>46.571301</td>\n",
       "      <td>22.671495</td>\n",
       "      <td>26.971844</td>\n",
       "      <td>3.553652</td>\n",
       "      <td>286.0</td>\n",
       "    </tr>\n",
       "  </tbody>\n",
       "</table>\n",
       "<p>5 rows × 24 columns</p>\n",
       "</div>"
      ],
      "text/plain": [
       "          UID          trip_creation_time  \\\n",
       "0  lWYYrbNEdf  2018-09-15 02:23:18.656742   \n",
       "1  iNJcHQlPCm  2018-09-30 15:07:48.971326   \n",
       "2  U6N0M43qwR  2018-09-23 22:15:46.635975   \n",
       "3  RrJUneuYNj  2018-09-21 05:11:44.833176   \n",
       "4  7QLdD7iRC9  2018-09-18 01:10:49.936747   \n",
       "\n",
       "                                 route_schedule_uuid route_type  \\\n",
       "0  thanos::sroute:9d8ed3f7-a8af-4393-ad7a-c57a720...        FTL   \n",
       "1  thanos::sroute:b9142a73-d68f-46ec-9afc-d145479...        FTL   \n",
       "2  thanos::sroute:883e99fa-50a3-40e0-a2e2-9b12ed6...        FTL   \n",
       "3  thanos::sroute:96a80600-40e1-436b-9161-fa68f9e...        FTL   \n",
       "4  thanos::sroute:b43ec86d-59c1-452c-b4a9-807d357...        FTL   \n",
       "\n",
       "                 trip_uuid source_center                         source_name  \\\n",
       "0  trip-153697819865649878  IND832109AAB  Jamshedpur_Central_I_3 (Jharkhand)   \n",
       "1  trip-153832006897106333  IND422011AAD     Nashik_TgrniaRD_I (Maharashtra)   \n",
       "2  trip-153774094663572416  IND845305AAA           Raxaul_KairiyaT_D (Bihar)   \n",
       "3  trip-153750670483274503  IND842001AAA         Muzaffrpur_Bbganj_I (Bihar)   \n",
       "4  trip-153723305402762987  IND411033AAA       Pune_Tathawde_H (Maharashtra)   \n",
       "\n",
       "  destination_center                   destination_name  \\\n",
       "0       IND834002AAB             Ranchi_Hub (Jharkhand)   \n",
       "1       IND421302AAG  Bhiwandi_Mankoli_HB (Maharashtra)   \n",
       "2                NaN        Muzaffrpur_Bbganj_I (Bihar)   \n",
       "3       IND854326AAB         Purnia_Central_H_2 (Bihar)   \n",
       "4       IND501359AAE   Hyderabad_Shamshbd_H (Telangana)   \n",
       "\n",
       "                od_start_time  ...     cutoff_timestamp  \\\n",
       "0  2018-09-15 02:23:18.656742  ...  2018-09-15 04:45:23   \n",
       "1  2018-09-30 22:38:13.903069  ...  2018-10-01 05:38:30   \n",
       "2  2018-09-24 03:56:37.016232  ...  2018-09-24 09:21:30   \n",
       "3  2018-09-22 10:08:32.593022  ...  2018-09-22 14:09:17   \n",
       "4  2018-09-18 01:10:49.936747  ...  2018-09-18 12:14:05   \n",
       "\n",
       "   actual_distance_to_destination   osrm_time  osrm_distance    factor  \\\n",
       "0                      158.807515  778.672716    1228.735753  2.782826   \n",
       "1                       81.388109  227.479029            NaN  3.625248   \n",
       "2                      134.486898  400.072069    1188.943158  4.415969   \n",
       "3                      262.866674  510.123878     999.421258  2.946647   \n",
       "4                      379.389280         NaN            NaN  1.998790   \n",
       "\n",
       "   segment_actual_time  segment_osrm_time  segment_osrm_distance  \\\n",
       "0            77.988686          20.793472              28.475783   \n",
       "1            68.517914          18.787231              34.612259   \n",
       "2            70.475386          24.371978              29.867950   \n",
       "3           101.876844          19.588977              27.794019   \n",
       "4            46.571301          22.671495              26.971844   \n",
       "\n",
       "   segment_factor  actual_time  \n",
       "0        3.292773        100.0  \n",
       "1        4.277350         61.0  \n",
       "2        5.322072         69.0  \n",
       "3        4.265799        300.0  \n",
       "4        3.553652        286.0  \n",
       "\n",
       "[5 rows x 24 columns]"
      ]
     },
     "execution_count": 19,
     "metadata": {},
     "output_type": "execute_result"
    }
   ],
   "source": [
    "df = pd.read_csv('dataset/train_data.csv')\n",
    "\n",
    "#df = df.dropna(how='any')\n",
    "#df = df.reset_index(drop=True)\n",
    "\n",
    "df.head()"
   ]
  },
  {
   "cell_type": "code",
   "execution_count": 3,
   "metadata": {},
   "outputs": [
    {
     "name": "stdout",
     "output_type": "stream",
     "text": [
      "22126\n"
     ]
    }
   ],
   "source": [
    "df['segment_key'] = df['trip_uuid'] + df['source_name'] + df['destination_name']\n",
    "print(len(pd.unique(df['segment_key'])))"
   ]
  },
  {
   "cell_type": "code",
   "execution_count": 21,
   "metadata": {},
   "outputs": [
    {
     "data": {
      "text/plain": [
       "Index(['UID', 'trip_creation_time', 'route_schedule_uuid', 'route_type',\n",
       "       'trip_uuid', 'source_center', 'source_name', 'destination_center',\n",
       "       'destination_name', 'od_start_time', 'od_end_time',\n",
       "       'start_scan_to_end_scan', 'is_cutoff', 'cutoff_factor',\n",
       "       'cutoff_timestamp', 'actual_distance_to_destination', 'osrm_time',\n",
       "       'osrm_distance', 'factor', 'segment_actual_time', 'segment_osrm_time',\n",
       "       'segment_osrm_distance', 'segment_factor', 'actual_time'],\n",
       "      dtype='object')"
      ]
     },
     "execution_count": 21,
     "metadata": {},
     "output_type": "execute_result"
    }
   ],
   "source": [
    "df.columns"
   ]
  },
  {
   "cell_type": "code",
   "execution_count": 22,
   "metadata": {},
   "outputs": [
    {
     "data": {
      "text/plain": [
       "0         77.988686\n",
       "1         68.517914\n",
       "2         70.475386\n",
       "3        101.876844\n",
       "4         46.571301\n",
       "            ...    \n",
       "72153     55.856356\n",
       "72154     35.976514\n",
       "72155     44.101033\n",
       "72156     37.771823\n",
       "72157     54.154817\n",
       "Name: segment_actual_time, Length: 72158, dtype: float64"
      ]
     },
     "execution_count": 22,
     "metadata": {},
     "output_type": "execute_result"
    }
   ],
   "source": [
    "df['segment_actual_time']"
   ]
  },
  {
   "cell_type": "code",
   "execution_count": 5,
   "metadata": {},
   "outputs": [],
   "source": [
    "from sklearn.preprocessing import LabelBinarizer\n",
    "from sklearn.preprocessing import OneHotEncoder"
   ]
  },
  {
   "cell_type": "code",
   "execution_count": 6,
   "metadata": {},
   "outputs": [],
   "source": [
    "df[['trip_creation_date','trip_creation_clk']] = df['trip_creation_time'].str.split(' ', expand=True)\n",
    "df[['trip_creation_year','trip_creation_month','trip_creation_day']] = df['trip_creation_date'].str.split('-', expand=True)\n",
    "df[['trip_creation_hour','trip_creation_min','trip_creation_sec']] = df['trip_creation_clk'].str.split(':', expand=True)\n",
    "\n",
    "df[['trip_creation_year','trip_creation_month','trip_creation_day','trip_creation_hour','trip_creation_min','trip_creation_sec']] = df[['trip_creation_year','trip_creation_month','trip_creation_day','trip_creation_hour','trip_creation_min','trip_creation_sec']].astype(float)\n",
    "\n",
    "df = df.drop(['trip_creation_time','trip_creation_date','trip_creation_clk'], axis=1)"
   ]
  },
  {
   "cell_type": "code",
   "execution_count": 7,
   "metadata": {},
   "outputs": [
    {
     "name": "stdout",
     "output_type": "stream",
     "text": [
      "1470\n"
     ]
    }
   ],
   "source": [
    "print(len(pd.unique(df['route_schedule_uuid'])))\n",
    "df = df.drop(['route_schedule_uuid'], axis=1)"
   ]
  },
  {
   "cell_type": "code",
   "execution_count": 8,
   "metadata": {},
   "outputs": [
    {
     "name": "stdout",
     "output_type": "stream",
     "text": [
      "2\n"
     ]
    }
   ],
   "source": [
    "print(len(pd.unique(df['route_type'])))\n",
    "\n",
    "encoder = LabelBinarizer()\n",
    "df['route_type'] = encoder.fit_transform(df['route_type'])"
   ]
  },
  {
   "cell_type": "code",
   "execution_count": 9,
   "metadata": {},
   "outputs": [],
   "source": [
    "df['segment_key'] = df['trip_uuid'] + df['source_center'] + df['destination_center']\n",
    "segment_cols = ['segment_actual_time', 'segment_osrm_distance', 'segment_osrm_time']\n",
    "\n",
    "for col in segment_cols:\n",
    "    df[col + '_sum'] = df.groupby('segment_key')[col].cumsum()\n",
    "    \n",
    "df = df.drop(['trip_uuid','source_center','source_name','destination_center','destination_name','segment_key'], axis=1)"
   ]
  },
  {
   "cell_type": "code",
   "execution_count": 10,
   "metadata": {},
   "outputs": [],
   "source": [
    "df[['od_start_date','od_start_clk']] = df['od_start_time'].str.split(' ', expand=True)\n",
    "df[['od_start_year','od_start_month','od_start_day']] = df['od_start_date'].str.split('-', expand=True)\n",
    "df[['od_start_hour','od_start_min','od_start_sec']] = df['od_start_clk'].str.split(':', expand=True)\n",
    "\n",
    "df[['od_start_year','od_start_month','od_start_day','od_start_hour','od_start_min','od_start_sec']] = df[['od_start_year','od_start_month','od_start_day','od_start_hour','od_start_min','od_start_sec']].astype(float)\n",
    "\n",
    "df = df.drop(['od_start_time','od_start_date','od_start_clk'], axis=1)"
   ]
  },
  {
   "cell_type": "code",
   "execution_count": 11,
   "metadata": {},
   "outputs": [],
   "source": [
    "df[['od_end_date','od_end_clk']] = df['od_end_time'].str.split(' ', expand=True)\n",
    "df[['od_end_year','od_end_month','od_end_day']] = df['od_end_date'].str.split('-', expand=True)\n",
    "df[['od_end_hour','od_end_min','od_end_sec']] = df['od_end_clk'].str.split(':', expand=True)\n",
    "\n",
    "df[['od_end_year','od_end_month','od_end_day','od_end_hour','od_end_min','od_end_sec']] = df[['od_end_year','od_end_month','od_end_day','od_end_hour','od_end_min','od_end_sec']].astype(float)\n",
    "\n",
    "df = df.drop(['od_end_time','od_end_date','od_end_clk'], axis=1)"
   ]
  },
  {
   "cell_type": "code",
   "execution_count": 12,
   "metadata": {},
   "outputs": [
    {
     "name": "stdout",
     "output_type": "stream",
     "text": [
      "2\n"
     ]
    }
   ],
   "source": [
    "print(len(pd.unique(df['is_cutoff'])))\n",
    "\n",
    "encoder = LabelBinarizer()\n",
    "df['is_cutoff'] = encoder.fit_transform(df['is_cutoff'])"
   ]
  },
  {
   "cell_type": "code",
   "execution_count": 13,
   "metadata": {},
   "outputs": [],
   "source": [
    "df[['cutoff_timestamp_date','cutoff_timestamp_clk']] = df['cutoff_timestamp'].str.split(' ', expand=True)\n",
    "df[['cutoff_timestamp_year','cutoff_timestamp_month','cutoff_timestamp_day']] = df['cutoff_timestamp_date'].str.split('-', expand=True)\n",
    "df[['cutoff_timestamp_hour','cutoff_timestamp_min','cutoff_timestamp_sec']] = df['cutoff_timestamp_clk'].str.split(':', expand=True)\n",
    "\n",
    "df[['cutoff_timestamp_year','cutoff_timestamp_month','cutoff_timestamp_day','cutoff_timestamp_hour','cutoff_timestamp_min','cutoff_timestamp_sec']] = df[['cutoff_timestamp_year','cutoff_timestamp_month','cutoff_timestamp_day','cutoff_timestamp_hour','cutoff_timestamp_min','cutoff_timestamp_sec']].astype(float)\n",
    "\n",
    "df = df.drop(['cutoff_timestamp','cutoff_timestamp_date','cutoff_timestamp_clk'], axis=1)"
   ]
  },
  {
   "cell_type": "code",
   "execution_count": 23,
   "metadata": {},
   "outputs": [
    {
     "ename": "KeyError",
     "evalue": "'cutoff_timestamp_hour'",
     "output_type": "error",
     "traceback": [
      "\u001b[1;31m---------------------------------------------------------------------------\u001b[0m",
      "\u001b[1;31mKeyError\u001b[0m                                  Traceback (most recent call last)",
      "File \u001b[1;32mc:\\python_3.10.2\\lib\\site-packages\\pandas\\core\\indexes\\base.py:3621\u001b[0m, in \u001b[0;36mIndex.get_loc\u001b[1;34m(self, key, method, tolerance)\u001b[0m\n\u001b[0;32m   3620\u001b[0m \u001b[39mtry\u001b[39;00m:\n\u001b[1;32m-> 3621\u001b[0m     \u001b[39mreturn\u001b[39;00m \u001b[39mself\u001b[39;49m\u001b[39m.\u001b[39;49m_engine\u001b[39m.\u001b[39;49mget_loc(casted_key)\n\u001b[0;32m   3622\u001b[0m \u001b[39mexcept\u001b[39;00m \u001b[39mKeyError\u001b[39;00m \u001b[39mas\u001b[39;00m err:\n",
      "File \u001b[1;32mc:\\python_3.10.2\\lib\\site-packages\\pandas\\_libs\\index.pyx:136\u001b[0m, in \u001b[0;36mpandas._libs.index.IndexEngine.get_loc\u001b[1;34m()\u001b[0m\n",
      "File \u001b[1;32mc:\\python_3.10.2\\lib\\site-packages\\pandas\\_libs\\index.pyx:163\u001b[0m, in \u001b[0;36mpandas._libs.index.IndexEngine.get_loc\u001b[1;34m()\u001b[0m\n",
      "File \u001b[1;32mpandas\\_libs\\hashtable_class_helper.pxi:5198\u001b[0m, in \u001b[0;36mpandas._libs.hashtable.PyObjectHashTable.get_item\u001b[1;34m()\u001b[0m\n",
      "File \u001b[1;32mpandas\\_libs\\hashtable_class_helper.pxi:5206\u001b[0m, in \u001b[0;36mpandas._libs.hashtable.PyObjectHashTable.get_item\u001b[1;34m()\u001b[0m\n",
      "\u001b[1;31mKeyError\u001b[0m: 'cutoff_timestamp_hour'",
      "\nThe above exception was the direct cause of the following exception:\n",
      "\u001b[1;31mKeyError\u001b[0m                                  Traceback (most recent call last)",
      "\u001b[1;32mc:\\Users\\HP\\Desktop\\Codes\\Event Codes\\ml_events\\cassandra\\data_understanding-2.ipynb Cell 15\u001b[0m in \u001b[0;36m<cell line: 1>\u001b[1;34m()\u001b[0m\n\u001b[1;32m----> <a href='vscode-notebook-cell:/c%3A/Users/HP/Desktop/Codes/Event%20Codes/ml_events/cassandra/data_understanding-2.ipynb#X24sZmlsZQ%3D%3D?line=0'>1</a>\u001b[0m \u001b[39mprint\u001b[39m(df[\u001b[39m'\u001b[39;49m\u001b[39mcutoff_timestamp_hour\u001b[39;49m\u001b[39m'\u001b[39;49m]\u001b[39m.\u001b[39misnull()\u001b[39m.\u001b[39msum())\n",
      "File \u001b[1;32mc:\\python_3.10.2\\lib\\site-packages\\pandas\\core\\frame.py:3505\u001b[0m, in \u001b[0;36mDataFrame.__getitem__\u001b[1;34m(self, key)\u001b[0m\n\u001b[0;32m   3503\u001b[0m \u001b[39mif\u001b[39;00m \u001b[39mself\u001b[39m\u001b[39m.\u001b[39mcolumns\u001b[39m.\u001b[39mnlevels \u001b[39m>\u001b[39m \u001b[39m1\u001b[39m:\n\u001b[0;32m   3504\u001b[0m     \u001b[39mreturn\u001b[39;00m \u001b[39mself\u001b[39m\u001b[39m.\u001b[39m_getitem_multilevel(key)\n\u001b[1;32m-> 3505\u001b[0m indexer \u001b[39m=\u001b[39m \u001b[39mself\u001b[39;49m\u001b[39m.\u001b[39;49mcolumns\u001b[39m.\u001b[39;49mget_loc(key)\n\u001b[0;32m   3506\u001b[0m \u001b[39mif\u001b[39;00m is_integer(indexer):\n\u001b[0;32m   3507\u001b[0m     indexer \u001b[39m=\u001b[39m [indexer]\n",
      "File \u001b[1;32mc:\\python_3.10.2\\lib\\site-packages\\pandas\\core\\indexes\\base.py:3623\u001b[0m, in \u001b[0;36mIndex.get_loc\u001b[1;34m(self, key, method, tolerance)\u001b[0m\n\u001b[0;32m   3621\u001b[0m     \u001b[39mreturn\u001b[39;00m \u001b[39mself\u001b[39m\u001b[39m.\u001b[39m_engine\u001b[39m.\u001b[39mget_loc(casted_key)\n\u001b[0;32m   3622\u001b[0m \u001b[39mexcept\u001b[39;00m \u001b[39mKeyError\u001b[39;00m \u001b[39mas\u001b[39;00m err:\n\u001b[1;32m-> 3623\u001b[0m     \u001b[39mraise\u001b[39;00m \u001b[39mKeyError\u001b[39;00m(key) \u001b[39mfrom\u001b[39;00m \u001b[39merr\u001b[39;00m\n\u001b[0;32m   3624\u001b[0m \u001b[39mexcept\u001b[39;00m \u001b[39mTypeError\u001b[39;00m:\n\u001b[0;32m   3625\u001b[0m     \u001b[39m# If we have a listlike key, _check_indexing_error will raise\u001b[39;00m\n\u001b[0;32m   3626\u001b[0m     \u001b[39m#  InvalidIndexError. Otherwise we fall through and re-raise\u001b[39;00m\n\u001b[0;32m   3627\u001b[0m     \u001b[39m#  the TypeError.\u001b[39;00m\n\u001b[0;32m   3628\u001b[0m     \u001b[39mself\u001b[39m\u001b[39m.\u001b[39m_check_indexing_error(key)\n",
      "\u001b[1;31mKeyError\u001b[0m: 'cutoff_timestamp_hour'"
     ]
    }
   ],
   "source": [
    "print(df['cutoff_timestamp_hour'].isnull().sum())"
   ]
  },
  {
   "cell_type": "code",
   "execution_count": 14,
   "metadata": {},
   "outputs": [],
   "source": [
    "import numpy as np"
   ]
  },
  {
   "cell_type": "code",
   "execution_count": 15,
   "metadata": {},
   "outputs": [],
   "source": [
    "x_df = df.drop(['UID','actual_time'], axis=1)\n",
    "x = x_df.to_numpy()\n",
    "\n",
    "y_df = df['actual_time']\n",
    "y = y_df.to_numpy()"
   ]
  },
  {
   "cell_type": "code",
   "execution_count": 16,
   "metadata": {},
   "outputs": [],
   "source": [
    "np.save('temp/x_train', x)\n",
    "np.save('temp/y_train', y)"
   ]
  },
  {
   "cell_type": "code",
   "execution_count": null,
   "metadata": {},
   "outputs": [],
   "source": [
    "x_df['segment_actual_time_sum'].head(25)"
   ]
  }
 ],
 "metadata": {
  "kernelspec": {
   "display_name": "Python 3",
   "language": "python",
   "name": "python3"
  },
  "language_info": {
   "codemirror_mode": {
    "name": "ipython",
    "version": 3
   },
   "file_extension": ".py",
   "mimetype": "text/x-python",
   "name": "python",
   "nbconvert_exporter": "python",
   "pygments_lexer": "ipython3",
   "version": "3.10.2"
  },
  "orig_nbformat": 4
 },
 "nbformat": 4,
 "nbformat_minor": 2
}
