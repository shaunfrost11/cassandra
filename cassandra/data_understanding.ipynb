{
 "cells": [
  {
   "cell_type": "code",
   "execution_count": 1,
   "metadata": {},
   "outputs": [],
   "source": [
    "import pandas as pd"
   ]
  },
  {
   "cell_type": "code",
   "execution_count": 2,
   "metadata": {},
   "outputs": [
    {
     "data": {
      "text/html": [
       "<div>\n",
       "<style scoped>\n",
       "    .dataframe tbody tr th:only-of-type {\n",
       "        vertical-align: middle;\n",
       "    }\n",
       "\n",
       "    .dataframe tbody tr th {\n",
       "        vertical-align: top;\n",
       "    }\n",
       "\n",
       "    .dataframe thead th {\n",
       "        text-align: right;\n",
       "    }\n",
       "</style>\n",
       "<table border=\"1\" class=\"dataframe\">\n",
       "  <thead>\n",
       "    <tr style=\"text-align: right;\">\n",
       "      <th></th>\n",
       "      <th>UID</th>\n",
       "      <th>trip_creation_time</th>\n",
       "      <th>route_schedule_uuid</th>\n",
       "      <th>route_type</th>\n",
       "      <th>trip_uuid</th>\n",
       "      <th>source_center</th>\n",
       "      <th>source_name</th>\n",
       "      <th>destination_center</th>\n",
       "      <th>destination_name</th>\n",
       "      <th>od_start_time</th>\n",
       "      <th>...</th>\n",
       "      <th>cutoff_timestamp</th>\n",
       "      <th>actual_distance_to_destination</th>\n",
       "      <th>osrm_time</th>\n",
       "      <th>osrm_distance</th>\n",
       "      <th>factor</th>\n",
       "      <th>segment_actual_time</th>\n",
       "      <th>segment_osrm_time</th>\n",
       "      <th>segment_osrm_distance</th>\n",
       "      <th>segment_factor</th>\n",
       "      <th>actual_time</th>\n",
       "    </tr>\n",
       "  </thead>\n",
       "  <tbody>\n",
       "    <tr>\n",
       "      <th>0</th>\n",
       "      <td>lWYYrbNEdf</td>\n",
       "      <td>2018-09-15 02:23:18.656742</td>\n",
       "      <td>thanos::sroute:9d8ed3f7-a8af-4393-ad7a-c57a720...</td>\n",
       "      <td>FTL</td>\n",
       "      <td>trip-153697819865649878</td>\n",
       "      <td>IND832109AAB</td>\n",
       "      <td>Jamshedpur_Central_I_3 (Jharkhand)</td>\n",
       "      <td>IND834002AAB</td>\n",
       "      <td>Ranchi_Hub (Jharkhand)</td>\n",
       "      <td>2018-09-15 02:23:18.656742</td>\n",
       "      <td>...</td>\n",
       "      <td>2018-09-15 04:45:23</td>\n",
       "      <td>158.807515</td>\n",
       "      <td>778.672716</td>\n",
       "      <td>1228.735753</td>\n",
       "      <td>2.782826</td>\n",
       "      <td>77.988686</td>\n",
       "      <td>20.793472</td>\n",
       "      <td>28.475783</td>\n",
       "      <td>3.292773</td>\n",
       "      <td>100.0</td>\n",
       "    </tr>\n",
       "    <tr>\n",
       "      <th>1</th>\n",
       "      <td>iNJcHQlPCm</td>\n",
       "      <td>2018-09-30 15:07:48.971326</td>\n",
       "      <td>thanos::sroute:b9142a73-d68f-46ec-9afc-d145479...</td>\n",
       "      <td>FTL</td>\n",
       "      <td>trip-153832006897106333</td>\n",
       "      <td>IND422011AAD</td>\n",
       "      <td>Nashik_TgrniaRD_I (Maharashtra)</td>\n",
       "      <td>IND421302AAG</td>\n",
       "      <td>Bhiwandi_Mankoli_HB (Maharashtra)</td>\n",
       "      <td>2018-09-30 22:38:13.903069</td>\n",
       "      <td>...</td>\n",
       "      <td>2018-10-01 05:38:30</td>\n",
       "      <td>81.388109</td>\n",
       "      <td>227.479029</td>\n",
       "      <td>NaN</td>\n",
       "      <td>3.625248</td>\n",
       "      <td>68.517914</td>\n",
       "      <td>18.787231</td>\n",
       "      <td>34.612259</td>\n",
       "      <td>4.277350</td>\n",
       "      <td>61.0</td>\n",
       "    </tr>\n",
       "    <tr>\n",
       "      <th>2</th>\n",
       "      <td>U6N0M43qwR</td>\n",
       "      <td>2018-09-23 22:15:46.635975</td>\n",
       "      <td>thanos::sroute:883e99fa-50a3-40e0-a2e2-9b12ed6...</td>\n",
       "      <td>FTL</td>\n",
       "      <td>trip-153774094663572416</td>\n",
       "      <td>IND845305AAA</td>\n",
       "      <td>Raxaul_KairiyaT_D (Bihar)</td>\n",
       "      <td>NaN</td>\n",
       "      <td>Muzaffrpur_Bbganj_I (Bihar)</td>\n",
       "      <td>2018-09-24 03:56:37.016232</td>\n",
       "      <td>...</td>\n",
       "      <td>2018-09-24 09:21:30</td>\n",
       "      <td>134.486898</td>\n",
       "      <td>400.072069</td>\n",
       "      <td>1188.943158</td>\n",
       "      <td>4.415969</td>\n",
       "      <td>70.475386</td>\n",
       "      <td>24.371978</td>\n",
       "      <td>29.867950</td>\n",
       "      <td>5.322072</td>\n",
       "      <td>69.0</td>\n",
       "    </tr>\n",
       "    <tr>\n",
       "      <th>3</th>\n",
       "      <td>RrJUneuYNj</td>\n",
       "      <td>2018-09-21 05:11:44.833176</td>\n",
       "      <td>thanos::sroute:96a80600-40e1-436b-9161-fa68f9e...</td>\n",
       "      <td>FTL</td>\n",
       "      <td>trip-153750670483274503</td>\n",
       "      <td>IND842001AAA</td>\n",
       "      <td>Muzaffrpur_Bbganj_I (Bihar)</td>\n",
       "      <td>IND854326AAB</td>\n",
       "      <td>Purnia_Central_H_2 (Bihar)</td>\n",
       "      <td>2018-09-22 10:08:32.593022</td>\n",
       "      <td>...</td>\n",
       "      <td>2018-09-22 14:09:17</td>\n",
       "      <td>262.866674</td>\n",
       "      <td>510.123878</td>\n",
       "      <td>999.421258</td>\n",
       "      <td>2.946647</td>\n",
       "      <td>101.876844</td>\n",
       "      <td>19.588977</td>\n",
       "      <td>27.794019</td>\n",
       "      <td>4.265799</td>\n",
       "      <td>300.0</td>\n",
       "    </tr>\n",
       "    <tr>\n",
       "      <th>4</th>\n",
       "      <td>7QLdD7iRC9</td>\n",
       "      <td>2018-09-18 01:10:49.936747</td>\n",
       "      <td>thanos::sroute:b43ec86d-59c1-452c-b4a9-807d357...</td>\n",
       "      <td>FTL</td>\n",
       "      <td>trip-153723305402762987</td>\n",
       "      <td>IND411033AAA</td>\n",
       "      <td>Pune_Tathawde_H (Maharashtra)</td>\n",
       "      <td>IND501359AAE</td>\n",
       "      <td>Hyderabad_Shamshbd_H (Telangana)</td>\n",
       "      <td>2018-09-18 01:10:49.936747</td>\n",
       "      <td>...</td>\n",
       "      <td>2018-09-18 12:14:05</td>\n",
       "      <td>379.389280</td>\n",
       "      <td>NaN</td>\n",
       "      <td>NaN</td>\n",
       "      <td>1.998790</td>\n",
       "      <td>46.571301</td>\n",
       "      <td>22.671495</td>\n",
       "      <td>26.971844</td>\n",
       "      <td>3.553652</td>\n",
       "      <td>286.0</td>\n",
       "    </tr>\n",
       "  </tbody>\n",
       "</table>\n",
       "<p>5 rows × 24 columns</p>\n",
       "</div>"
      ],
      "text/plain": [
       "          UID          trip_creation_time  \\\n",
       "0  lWYYrbNEdf  2018-09-15 02:23:18.656742   \n",
       "1  iNJcHQlPCm  2018-09-30 15:07:48.971326   \n",
       "2  U6N0M43qwR  2018-09-23 22:15:46.635975   \n",
       "3  RrJUneuYNj  2018-09-21 05:11:44.833176   \n",
       "4  7QLdD7iRC9  2018-09-18 01:10:49.936747   \n",
       "\n",
       "                                 route_schedule_uuid route_type  \\\n",
       "0  thanos::sroute:9d8ed3f7-a8af-4393-ad7a-c57a720...        FTL   \n",
       "1  thanos::sroute:b9142a73-d68f-46ec-9afc-d145479...        FTL   \n",
       "2  thanos::sroute:883e99fa-50a3-40e0-a2e2-9b12ed6...        FTL   \n",
       "3  thanos::sroute:96a80600-40e1-436b-9161-fa68f9e...        FTL   \n",
       "4  thanos::sroute:b43ec86d-59c1-452c-b4a9-807d357...        FTL   \n",
       "\n",
       "                 trip_uuid source_center                         source_name  \\\n",
       "0  trip-153697819865649878  IND832109AAB  Jamshedpur_Central_I_3 (Jharkhand)   \n",
       "1  trip-153832006897106333  IND422011AAD     Nashik_TgrniaRD_I (Maharashtra)   \n",
       "2  trip-153774094663572416  IND845305AAA           Raxaul_KairiyaT_D (Bihar)   \n",
       "3  trip-153750670483274503  IND842001AAA         Muzaffrpur_Bbganj_I (Bihar)   \n",
       "4  trip-153723305402762987  IND411033AAA       Pune_Tathawde_H (Maharashtra)   \n",
       "\n",
       "  destination_center                   destination_name  \\\n",
       "0       IND834002AAB             Ranchi_Hub (Jharkhand)   \n",
       "1       IND421302AAG  Bhiwandi_Mankoli_HB (Maharashtra)   \n",
       "2                NaN        Muzaffrpur_Bbganj_I (Bihar)   \n",
       "3       IND854326AAB         Purnia_Central_H_2 (Bihar)   \n",
       "4       IND501359AAE   Hyderabad_Shamshbd_H (Telangana)   \n",
       "\n",
       "                od_start_time  ...     cutoff_timestamp  \\\n",
       "0  2018-09-15 02:23:18.656742  ...  2018-09-15 04:45:23   \n",
       "1  2018-09-30 22:38:13.903069  ...  2018-10-01 05:38:30   \n",
       "2  2018-09-24 03:56:37.016232  ...  2018-09-24 09:21:30   \n",
       "3  2018-09-22 10:08:32.593022  ...  2018-09-22 14:09:17   \n",
       "4  2018-09-18 01:10:49.936747  ...  2018-09-18 12:14:05   \n",
       "\n",
       "   actual_distance_to_destination   osrm_time  osrm_distance    factor  \\\n",
       "0                      158.807515  778.672716    1228.735753  2.782826   \n",
       "1                       81.388109  227.479029            NaN  3.625248   \n",
       "2                      134.486898  400.072069    1188.943158  4.415969   \n",
       "3                      262.866674  510.123878     999.421258  2.946647   \n",
       "4                      379.389280         NaN            NaN  1.998790   \n",
       "\n",
       "   segment_actual_time  segment_osrm_time  segment_osrm_distance  \\\n",
       "0            77.988686          20.793472              28.475783   \n",
       "1            68.517914          18.787231              34.612259   \n",
       "2            70.475386          24.371978              29.867950   \n",
       "3           101.876844          19.588977              27.794019   \n",
       "4            46.571301          22.671495              26.971844   \n",
       "\n",
       "   segment_factor  actual_time  \n",
       "0        3.292773        100.0  \n",
       "1        4.277350         61.0  \n",
       "2        5.322072         69.0  \n",
       "3        4.265799        300.0  \n",
       "4        3.553652        286.0  \n",
       "\n",
       "[5 rows x 24 columns]"
      ]
     },
     "execution_count": 2,
     "metadata": {},
     "output_type": "execute_result"
    }
   ],
   "source": [
    "df = pd.read_csv('dataset/train_data.csv')\n",
    "df.head()"
   ]
  },
  {
   "cell_type": "code",
   "execution_count": 4,
   "metadata": {},
   "outputs": [
    {
     "data": {
      "text/plain": [
       "Index(['UID', 'trip_creation_time', 'route_schedule_uuid', 'route_type',\n",
       "       'trip_uuid', 'source_center', 'source_name', 'destination_center',\n",
       "       'destination_name', 'od_start_time', 'od_end_time',\n",
       "       'start_scan_to_end_scan', 'is_cutoff', 'cutoff_factor',\n",
       "       'cutoff_timestamp', 'actual_distance_to_destination', 'osrm_time',\n",
       "       'osrm_distance', 'factor', 'segment_actual_time', 'segment_osrm_time',\n",
       "       'segment_osrm_distance', 'segment_factor', 'actual_time'],\n",
       "      dtype='object')"
      ]
     },
     "execution_count": 4,
     "metadata": {},
     "output_type": "execute_result"
    }
   ],
   "source": [
    "df.columns"
   ]
  },
  {
   "cell_type": "code",
   "execution_count": 5,
   "metadata": {},
   "outputs": [],
   "source": [
    "from sklearn.preprocessing import LabelBinarizer\n",
    "from sklearn.preprocessing import OneHotEncoder"
   ]
  },
  {
   "cell_type": "code",
   "execution_count": 6,
   "metadata": {},
   "outputs": [],
   "source": [
    "df[['trip_creation_date','trip_creation_clk']] = df['trip_creation_time'].str.split(' ', expand=True)\n",
    "df[['trip_creation_year','trip_creation_month','trip_creation_day']] = df['trip_creation_date'].str.split('-', expand=True)\n",
    "df[['trip_creation_hour','trip_creation_min','trip_creation_sec']] = df['trip_creation_clk'].str.split(':', expand=True)\n",
    "\n",
    "df[['trip_creation_year','trip_creation_month','trip_creation_day','trip_creation_hour','trip_creation_min','trip_creation_sec']] = df[['trip_creation_year','trip_creation_month','trip_creation_day','trip_creation_hour','trip_creation_min','trip_creation_sec']].astype(float)\n",
    "\n",
    "df = df.drop(['trip_creation_time','trip_creation_date','trip_creation_clk'], axis=1)"
   ]
  },
  {
   "cell_type": "code",
   "execution_count": 3,
   "metadata": {},
   "outputs": [],
   "source": [
    "df['route_schedule_uuid'] = df['route_schedule_uuid'].str.replace('thanos::sroute:', '')\n",
    "df[['route_uuid_1','route_uuid_2','route_uuid_3','route_uuid_4','route_uuid_5']] = df['route_schedule_uuid'].str.split('-', expand=True)\n",
    "\n",
    "#print(len(pd.unique(df['route_uuid_1'])), len(pd.unique(df['route_uuid_2'])), len(pd.unique(df['route_uuid_3'])), len(pd.unique(df['route_uuid_4'])), len(pd.unique(df['route_uuid_5'])))\n",
    "#df = df.drop(['route_schedule_uuid','route_uuid_1','route_uuid_2','route_uuid_3','route_uuid_4','route_uuid_5'], axis=1)"
   ]
  },
  {
   "cell_type": "code",
   "execution_count": 8,
   "metadata": {},
   "outputs": [
    {
     "name": "stdout",
     "output_type": "stream",
     "text": [
      "2\n"
     ]
    }
   ],
   "source": [
    "print(len(pd.unique(df['route_type'])))\n",
    "\n",
    "encoder = LabelBinarizer()\n",
    "df['route_type'] = encoder.fit_transform(df['route_type'])"
   ]
  },
  {
   "cell_type": "code",
   "execution_count": 32,
   "metadata": {},
   "outputs": [],
   "source": [
    "df['trip_uuid'] = df['trip_uuid'].str.replace('trip-', '')\n",
    "\n",
    "#print(len(pd.unique(df['trip_uuid'])))\n",
    "#df = df.drop(['trip_uuid'], axis=1)"
   ]
  },
  {
   "cell_type": "code",
   "execution_count": 33,
   "metadata": {},
   "outputs": [
    {
     "data": {
      "text/plain": [
       "0         79300\n",
       "1         36979\n",
       "2        844588\n",
       "3        161780\n",
       "4        331026\n",
       "          ...  \n",
       "72153    834650\n",
       "72154    170602\n",
       "72155    550609\n",
       "72156    675451\n",
       "72157    964247\n",
       "Name: trip_uuid, Length: 72158, dtype: int64"
      ]
     },
     "execution_count": 33,
     "metadata": {},
     "output_type": "execute_result"
    }
   ],
   "source": [
    "df['trip_uuid']"
   ]
  },
  {
   "cell_type": "code",
   "execution_count": 10,
   "metadata": {},
   "outputs": [
    {
     "name": "stdout",
     "output_type": "stream",
     "text": [
      "1349 35\n"
     ]
    }
   ],
   "source": [
    "df['source_center'] = df['source_center'].str.replace('IND', '')\n",
    "df['source_center_number'] = df['source_center'].str[:6]\n",
    "df['source_center_name'] = df['source_center'].str[6:]\n",
    "\n",
    "print(len(pd.unique(df['source_center_number'])), len(pd.unique(df['source_center_name'])))\n",
    "df = df.drop(['source_center','source_center_number'], axis=1)\n",
    "\n",
    "encoder = OneHotEncoder()\n",
    "df_source_center_name = pd.DataFrame(encoder.fit_transform(df[['source_center_name']]).toarray())\n",
    "df_source_center_name = df_source_center_name.add_prefix('source_center_name_')\n",
    "df = df.join(df_source_center_name)\n",
    "\n",
    "df = df.drop(['source_center_name'], axis=1)"
   ]
  },
  {
   "cell_type": "code",
   "execution_count": 11,
   "metadata": {},
   "outputs": [
    {
     "name": "stderr",
     "output_type": "stream",
     "text": [
      "C:\\Users\\HP\\AppData\\Local\\Temp\\ipykernel_19804\\3396812767.py:1: FutureWarning: The default value of regex will change from True to False in a future version. In addition, single character regular expressions will *not* be treated as literal strings when regex=True.\n",
      "  df['source_name'] = df['source_name'].str.replace('(', ' ')\n",
      "C:\\Users\\HP\\AppData\\Local\\Temp\\ipykernel_19804\\3396812767.py:2: FutureWarning: The default value of regex will change from True to False in a future version. In addition, single character regular expressions will *not* be treated as literal strings when regex=True.\n",
      "  df['source_name'] = df['source_name'].str.replace(')', '')\n"
     ]
    },
    {
     "name": "stdout",
     "output_type": "stream",
     "text": [
      "1456 31\n"
     ]
    }
   ],
   "source": [
    "df['source_name'] = df['source_name'].str.replace('(', ' ')\n",
    "df['source_name'] = df['source_name'].str.replace(')', '')\n",
    "df[['source_name_gali','source_name_city']] = df['source_name'].str.split('  ', expand=True)\n",
    "\n",
    "print(len(pd.unique(df['source_name_gali'])), len(pd.unique(df['source_name_city'])))\n",
    "df = df.drop(['source_name','source_name_gali'], axis=1)\n",
    "\n",
    "encoder = OneHotEncoder()\n",
    "df_source_name_city = pd.DataFrame(encoder.fit_transform(df[['source_name_city']]).toarray())\n",
    "df_source_name_city = df_source_name_city.add_prefix('source_name_city_')\n",
    "df = df.join(df_source_name_city)\n",
    "\n",
    "df = df.drop(['source_name_city'], axis=1)"
   ]
  },
  {
   "cell_type": "code",
   "execution_count": 12,
   "metadata": {},
   "outputs": [
    {
     "name": "stdout",
     "output_type": "stream",
     "text": [
      "1348 28\n"
     ]
    }
   ],
   "source": [
    "df['destination_center'] = df['destination_center'].str.replace('IND', '')\n",
    "df['destination_center_number'] = df['destination_center'].str[:6]\n",
    "df['destination_center_name'] = df['destination_center'].str[6:]\n",
    "\n",
    "print(len(pd.unique(df['destination_center_number'])), len(pd.unique(df['destination_center_name'])))\n",
    "df = df.drop(['destination_center','destination_center_number'], axis=1)\n",
    "\n",
    "encoder = OneHotEncoder()\n",
    "df_source_center_name = pd.DataFrame(encoder.fit_transform(df[['destination_center_name']]).toarray())\n",
    "df_source_center_name = df_source_center_name.add_prefix('destination_center_name_')\n",
    "df = df.join(df_source_center_name)\n",
    "\n",
    "df = df.drop(['destination_center_name'], axis=1)"
   ]
  },
  {
   "cell_type": "code",
   "execution_count": 13,
   "metadata": {},
   "outputs": [
    {
     "name": "stderr",
     "output_type": "stream",
     "text": [
      "C:\\Users\\HP\\AppData\\Local\\Temp\\ipykernel_19804\\2585597997.py:1: FutureWarning: The default value of regex will change from True to False in a future version. In addition, single character regular expressions will *not* be treated as literal strings when regex=True.\n",
      "  df['destination_name'] = df['destination_name'].str.replace('(', ' ')\n",
      "C:\\Users\\HP\\AppData\\Local\\Temp\\ipykernel_19804\\2585597997.py:2: FutureWarning: The default value of regex will change from True to False in a future version. In addition, single character regular expressions will *not* be treated as literal strings when regex=True.\n",
      "  df['destination_name'] = df['destination_name'].str.replace(')', '')\n"
     ]
    },
    {
     "name": "stdout",
     "output_type": "stream",
     "text": [
      "1433 31\n"
     ]
    }
   ],
   "source": [
    "df['destination_name'] = df['destination_name'].str.replace('(', ' ')\n",
    "df['destination_name'] = df['destination_name'].str.replace(')', '')\n",
    "df[['destination_name_gali','destination_name_city']] = df['destination_name'].str.split('  ', expand=True)\n",
    "\n",
    "print(len(pd.unique(df['destination_name_gali'])), len(pd.unique(df['destination_name_city'])))\n",
    "df = df.drop(['destination_name','destination_name_gali'], axis=1)\n",
    "\n",
    "encoder = OneHotEncoder()\n",
    "df_source_name_city = pd.DataFrame(encoder.fit_transform(df[['destination_name_city']]).toarray())\n",
    "df_source_name_city = df_source_name_city.add_prefix('destination_name_city_')\n",
    "df = df.join(df_source_name_city)\n",
    "\n",
    "df = df.drop(['destination_name_city'], axis=1)"
   ]
  },
  {
   "cell_type": "code",
   "execution_count": 14,
   "metadata": {},
   "outputs": [],
   "source": [
    "df[['od_start_date','od_start_clk']] = df['od_start_time'].str.split(' ', expand=True)\n",
    "df[['od_start_year','od_start_month','od_start_day']] = df['od_start_date'].str.split('-', expand=True)\n",
    "df[['od_start_hour','od_start_min','od_start_sec']] = df['od_start_clk'].str.split(':', expand=True)\n",
    "\n",
    "df[['od_start_year','od_start_month','od_start_day','od_start_hour','od_start_min','od_start_sec']] = df[['od_start_year','od_start_month','od_start_day','od_start_hour','od_start_min','od_start_sec']].astype(float)\n",
    "\n",
    "df = df.drop(['od_start_time','od_start_date','od_start_clk'], axis=1)"
   ]
  },
  {
   "cell_type": "code",
   "execution_count": 15,
   "metadata": {},
   "outputs": [],
   "source": [
    "df[['od_end_date','od_end_clk']] = df['od_end_time'].str.split(' ', expand=True)\n",
    "df[['od_end_year','od_end_month','od_end_day']] = df['od_end_date'].str.split('-', expand=True)\n",
    "df[['od_end_hour','od_end_min','od_end_sec']] = df['od_end_clk'].str.split(':', expand=True)\n",
    "\n",
    "df[['od_end_year','od_end_month','od_end_day','od_end_hour','od_end_min','od_end_sec']] = df[['od_end_year','od_end_month','od_end_day','od_end_hour','od_end_min','od_end_sec']].astype(float)\n",
    "\n",
    "df = df.drop(['od_end_time','od_end_date','od_end_clk'], axis=1)"
   ]
  },
  {
   "cell_type": "code",
   "execution_count": 16,
   "metadata": {},
   "outputs": [
    {
     "name": "stdout",
     "output_type": "stream",
     "text": [
      "0\n"
     ]
    },
    {
     "data": {
      "text/plain": [
       "0     713.521495\n",
       "1     902.759458\n",
       "2     923.666146\n",
       "3     705.451567\n",
       "4    1109.682268\n",
       "Name: start_scan_to_end_scan, dtype: float64"
      ]
     },
     "execution_count": 16,
     "metadata": {},
     "output_type": "execute_result"
    }
   ],
   "source": [
    "print(df['start_scan_to_end_scan'].isnull().sum())\n",
    "df['start_scan_to_end_scan'].head()"
   ]
  },
  {
   "cell_type": "code",
   "execution_count": 17,
   "metadata": {},
   "outputs": [
    {
     "name": "stdout",
     "output_type": "stream",
     "text": [
      "2\n"
     ]
    }
   ],
   "source": [
    "print(len(pd.unique(df['is_cutoff'])))\n",
    "\n",
    "encoder = LabelBinarizer()\n",
    "df['is_cutoff'] = encoder.fit_transform(df['is_cutoff'])"
   ]
  },
  {
   "cell_type": "code",
   "execution_count": 18,
   "metadata": {},
   "outputs": [
    {
     "name": "stdout",
     "output_type": "stream",
     "text": [
      "0\n"
     ]
    },
    {
     "data": {
      "text/plain": [
       "0     44\n",
       "1     22\n",
       "2     22\n",
       "3    176\n",
       "4    198\n",
       "Name: cutoff_factor, dtype: int64"
      ]
     },
     "execution_count": 18,
     "metadata": {},
     "output_type": "execute_result"
    }
   ],
   "source": [
    "print(df['cutoff_factor'].isnull().sum())\n",
    "df['cutoff_factor'].head()"
   ]
  },
  {
   "cell_type": "code",
   "execution_count": 19,
   "metadata": {},
   "outputs": [],
   "source": [
    "df[['cutoff_timestamp_date','cutoff_timestamp_clk']] = df['cutoff_timestamp'].str.split(' ', expand=True)\n",
    "df[['cutoff_timestamp_year','cutoff_timestamp_month','cutoff_timestamp_day']] = df['cutoff_timestamp_date'].str.split('-', expand=True)\n",
    "df[['cutoff_timestamp_hour','cutoff_timestamp_min','cutoff_timestamp_sec']] = df['cutoff_timestamp_clk'].str.split(':', expand=True)\n",
    "\n",
    "df[['cutoff_timestamp_year','cutoff_timestamp_month','cutoff_timestamp_day','cutoff_timestamp_hour','cutoff_timestamp_min','cutoff_timestamp_sec']] = df[['cutoff_timestamp_year','cutoff_timestamp_month','cutoff_timestamp_day','cutoff_timestamp_hour','cutoff_timestamp_min','cutoff_timestamp_sec']].astype(float)\n",
    "\n",
    "df = df.drop(['cutoff_timestamp','cutoff_timestamp_date','cutoff_timestamp_clk'], axis=1)"
   ]
  },
  {
   "cell_type": "code",
   "execution_count": 20,
   "metadata": {},
   "outputs": [
    {
     "name": "stdout",
     "output_type": "stream",
     "text": [
      "0\n"
     ]
    },
    {
     "data": {
      "text/plain": [
       "0    158.807515\n",
       "1     81.388109\n",
       "2    134.486898\n",
       "3    262.866674\n",
       "4    379.389280\n",
       "Name: actual_distance_to_destination, dtype: float64"
      ]
     },
     "execution_count": 20,
     "metadata": {},
     "output_type": "execute_result"
    }
   ],
   "source": [
    "print(df['actual_distance_to_destination'].isnull().sum())\n",
    "df['actual_distance_to_destination'].head()"
   ]
  },
  {
   "cell_type": "code",
   "execution_count": 21,
   "metadata": {},
   "outputs": [
    {
     "name": "stdout",
     "output_type": "stream",
     "text": [
      "14432\n"
     ]
    },
    {
     "data": {
      "text/plain": [
       "0    778.672716\n",
       "1    227.479029\n",
       "2    400.072069\n",
       "3    510.123878\n",
       "4           NaN\n",
       "Name: osrm_time, dtype: float64"
      ]
     },
     "execution_count": 21,
     "metadata": {},
     "output_type": "execute_result"
    }
   ],
   "source": [
    "print(df['osrm_time'].isnull().sum())\n",
    "df['osrm_time'].head()"
   ]
  },
  {
   "cell_type": "code",
   "execution_count": 22,
   "metadata": {},
   "outputs": [
    {
     "name": "stdout",
     "output_type": "stream",
     "text": [
      "14432\n"
     ]
    },
    {
     "data": {
      "text/plain": [
       "0    1228.735753\n",
       "1            NaN\n",
       "2    1188.943158\n",
       "3     999.421258\n",
       "4            NaN\n",
       "Name: osrm_distance, dtype: float64"
      ]
     },
     "execution_count": 22,
     "metadata": {},
     "output_type": "execute_result"
    }
   ],
   "source": [
    "print(df['osrm_distance'].isnull().sum())\n",
    "df['osrm_distance'].head()\n"
   ]
  },
  {
   "cell_type": "code",
   "execution_count": 23,
   "metadata": {},
   "outputs": [
    {
     "name": "stdout",
     "output_type": "stream",
     "text": [
      "1644\n"
     ]
    },
    {
     "data": {
      "text/plain": [
       "0    2.782826\n",
       "1    3.625248\n",
       "2    4.415969\n",
       "3    2.946647\n",
       "4    1.998790\n",
       "Name: factor, dtype: float64"
      ]
     },
     "execution_count": 23,
     "metadata": {},
     "output_type": "execute_result"
    }
   ],
   "source": [
    "print(df['factor'].isnull().sum())\n",
    "df['factor'].head()"
   ]
  },
  {
   "cell_type": "code",
   "execution_count": 24,
   "metadata": {},
   "outputs": [
    {
     "name": "stdout",
     "output_type": "stream",
     "text": [
      "0\n"
     ]
    },
    {
     "data": {
      "text/plain": [
       "0     77.988686\n",
       "1     68.517914\n",
       "2     70.475386\n",
       "3    101.876844\n",
       "4     46.571301\n",
       "Name: segment_actual_time, dtype: float64"
      ]
     },
     "execution_count": 24,
     "metadata": {},
     "output_type": "execute_result"
    }
   ],
   "source": [
    "print(df['segment_actual_time'].isnull().sum())\n",
    "df['segment_actual_time'].head()"
   ]
  },
  {
   "cell_type": "code",
   "execution_count": 25,
   "metadata": {},
   "outputs": [
    {
     "name": "stdout",
     "output_type": "stream",
     "text": [
      "0\n"
     ]
    },
    {
     "data": {
      "text/plain": [
       "0    20.793472\n",
       "1    18.787231\n",
       "2    24.371978\n",
       "3    19.588977\n",
       "4    22.671495\n",
       "Name: segment_osrm_time, dtype: float64"
      ]
     },
     "execution_count": 25,
     "metadata": {},
     "output_type": "execute_result"
    }
   ],
   "source": [
    "print(df['segment_osrm_time'].isnull().sum())\n",
    "df['segment_osrm_time'].head()"
   ]
  },
  {
   "cell_type": "code",
   "execution_count": 26,
   "metadata": {},
   "outputs": [
    {
     "name": "stdout",
     "output_type": "stream",
     "text": [
      "0\n"
     ]
    },
    {
     "data": {
      "text/plain": [
       "0    28.475783\n",
       "1    34.612259\n",
       "2    29.867950\n",
       "3    27.794019\n",
       "4    26.971844\n",
       "Name: segment_osrm_distance, dtype: float64"
      ]
     },
     "execution_count": 26,
     "metadata": {},
     "output_type": "execute_result"
    }
   ],
   "source": [
    "print(df['segment_osrm_distance'].isnull().sum())\n",
    "df['segment_osrm_distance'].head()"
   ]
  },
  {
   "cell_type": "code",
   "execution_count": 27,
   "metadata": {},
   "outputs": [
    {
     "name": "stdout",
     "output_type": "stream",
     "text": [
      "1159\n"
     ]
    },
    {
     "data": {
      "text/plain": [
       "0    3.292773\n",
       "1    4.277350\n",
       "2    5.322072\n",
       "3    4.265799\n",
       "4    3.553652\n",
       "Name: segment_factor, dtype: float64"
      ]
     },
     "execution_count": 27,
     "metadata": {},
     "output_type": "execute_result"
    }
   ],
   "source": [
    "print(df['segment_factor'].isnull().sum())\n",
    "df['segment_factor'].head()"
   ]
  },
  {
   "cell_type": "code",
   "execution_count": 28,
   "metadata": {},
   "outputs": [
    {
     "name": "stdout",
     "output_type": "stream",
     "text": [
      "0\n"
     ]
    },
    {
     "data": {
      "text/plain": [
       "0    100.0\n",
       "1     61.0\n",
       "2     69.0\n",
       "3    300.0\n",
       "4    286.0\n",
       "Name: actual_time, dtype: float64"
      ]
     },
     "execution_count": 28,
     "metadata": {},
     "output_type": "execute_result"
    }
   ],
   "source": [
    "print(df['actual_time'].isnull().sum())\n",
    "df['actual_time'].head()"
   ]
  },
  {
   "cell_type": "code",
   "execution_count": 29,
   "metadata": {},
   "outputs": [],
   "source": [
    "df = df.interpolate(method ='linear', limit_direction ='forward')"
   ]
  },
  {
   "cell_type": "code",
   "execution_count": 30,
   "metadata": {},
   "outputs": [],
   "source": [
    "import numpy as np"
   ]
  },
  {
   "cell_type": "code",
   "execution_count": 31,
   "metadata": {},
   "outputs": [],
   "source": [
    "x = df.iloc[:, 1:-1].values\n",
    "row_sums = x.sum(axis=1)\n",
    "x = x / row_sums[:, np.newaxis]\n",
    "\n",
    "y = df.iloc[:, -1].values"
   ]
  },
  {
   "cell_type": "code",
   "execution_count": 32,
   "metadata": {},
   "outputs": [],
   "source": [
    "np.save('log/x_train', x)\n",
    "np.save('log/y_train', y)"
   ]
  },
  {
   "cell_type": "code",
   "execution_count": 33,
   "metadata": {},
   "outputs": [
    {
     "data": {
      "text/html": [
       "<div>\n",
       "<style scoped>\n",
       "    .dataframe tbody tr th:only-of-type {\n",
       "        vertical-align: middle;\n",
       "    }\n",
       "\n",
       "    .dataframe tbody tr th {\n",
       "        vertical-align: top;\n",
       "    }\n",
       "\n",
       "    .dataframe thead th {\n",
       "        text-align: right;\n",
       "    }\n",
       "</style>\n",
       "<table border=\"1\" class=\"dataframe\">\n",
       "  <thead>\n",
       "    <tr style=\"text-align: right;\">\n",
       "      <th></th>\n",
       "      <th>UID</th>\n",
       "      <th>route_type</th>\n",
       "      <th>start_scan_to_end_scan</th>\n",
       "      <th>is_cutoff</th>\n",
       "      <th>cutoff_factor</th>\n",
       "      <th>actual_distance_to_destination</th>\n",
       "      <th>osrm_time</th>\n",
       "      <th>osrm_distance</th>\n",
       "      <th>factor</th>\n",
       "      <th>segment_actual_time</th>\n",
       "      <th>...</th>\n",
       "      <th>od_end_day</th>\n",
       "      <th>od_end_hour</th>\n",
       "      <th>od_end_min</th>\n",
       "      <th>od_end_sec</th>\n",
       "      <th>cutoff_timestamp_year</th>\n",
       "      <th>cutoff_timestamp_month</th>\n",
       "      <th>cutoff_timestamp_day</th>\n",
       "      <th>cutoff_timestamp_hour</th>\n",
       "      <th>cutoff_timestamp_min</th>\n",
       "      <th>cutoff_timestamp_sec</th>\n",
       "    </tr>\n",
       "  </thead>\n",
       "  <tbody>\n",
       "    <tr>\n",
       "      <th>0</th>\n",
       "      <td>lWYYrbNEdf</td>\n",
       "      <td>1</td>\n",
       "      <td>713.521495</td>\n",
       "      <td>1</td>\n",
       "      <td>44</td>\n",
       "      <td>158.807515</td>\n",
       "      <td>778.672716</td>\n",
       "      <td>1228.735753</td>\n",
       "      <td>2.782826</td>\n",
       "      <td>77.988686</td>\n",
       "      <td>...</td>\n",
       "      <td>15.0</td>\n",
       "      <td>6.0</td>\n",
       "      <td>33.0</td>\n",
       "      <td>35.824186</td>\n",
       "      <td>2018.0</td>\n",
       "      <td>9.0</td>\n",
       "      <td>15.0</td>\n",
       "      <td>4.0</td>\n",
       "      <td>45.0</td>\n",
       "      <td>23.0</td>\n",
       "    </tr>\n",
       "    <tr>\n",
       "      <th>1</th>\n",
       "      <td>iNJcHQlPCm</td>\n",
       "      <td>1</td>\n",
       "      <td>902.759458</td>\n",
       "      <td>1</td>\n",
       "      <td>22</td>\n",
       "      <td>81.388109</td>\n",
       "      <td>227.479029</td>\n",
       "      <td>1208.839455</td>\n",
       "      <td>3.625248</td>\n",
       "      <td>68.517914</td>\n",
       "      <td>...</td>\n",
       "      <td>1.0</td>\n",
       "      <td>6.0</td>\n",
       "      <td>48.0</td>\n",
       "      <td>37.637477</td>\n",
       "      <td>2018.0</td>\n",
       "      <td>10.0</td>\n",
       "      <td>1.0</td>\n",
       "      <td>5.0</td>\n",
       "      <td>38.0</td>\n",
       "      <td>30.0</td>\n",
       "    </tr>\n",
       "    <tr>\n",
       "      <th>2</th>\n",
       "      <td>U6N0M43qwR</td>\n",
       "      <td>1</td>\n",
       "      <td>923.666146</td>\n",
       "      <td>1</td>\n",
       "      <td>22</td>\n",
       "      <td>134.486898</td>\n",
       "      <td>400.072069</td>\n",
       "      <td>1188.943158</td>\n",
       "      <td>4.415969</td>\n",
       "      <td>70.475386</td>\n",
       "      <td>...</td>\n",
       "      <td>24.0</td>\n",
       "      <td>11.0</td>\n",
       "      <td>15.0</td>\n",
       "      <td>0.826140</td>\n",
       "      <td>2018.0</td>\n",
       "      <td>9.0</td>\n",
       "      <td>24.0</td>\n",
       "      <td>9.0</td>\n",
       "      <td>21.0</td>\n",
       "      <td>30.0</td>\n",
       "    </tr>\n",
       "    <tr>\n",
       "      <th>3</th>\n",
       "      <td>RrJUneuYNj</td>\n",
       "      <td>1</td>\n",
       "      <td>705.451567</td>\n",
       "      <td>1</td>\n",
       "      <td>176</td>\n",
       "      <td>262.866674</td>\n",
       "      <td>510.123878</td>\n",
       "      <td>999.421258</td>\n",
       "      <td>2.946647</td>\n",
       "      <td>101.876844</td>\n",
       "      <td>...</td>\n",
       "      <td>22.0</td>\n",
       "      <td>19.0</td>\n",
       "      <td>17.0</td>\n",
       "      <td>22.242888</td>\n",
       "      <td>2018.0</td>\n",
       "      <td>9.0</td>\n",
       "      <td>22.0</td>\n",
       "      <td>14.0</td>\n",
       "      <td>9.0</td>\n",
       "      <td>17.0</td>\n",
       "    </tr>\n",
       "    <tr>\n",
       "      <th>4</th>\n",
       "      <td>7QLdD7iRC9</td>\n",
       "      <td>1</td>\n",
       "      <td>1109.682268</td>\n",
       "      <td>1</td>\n",
       "      <td>198</td>\n",
       "      <td>379.389280</td>\n",
       "      <td>1420.967994</td>\n",
       "      <td>1738.939687</td>\n",
       "      <td>1.998790</td>\n",
       "      <td>46.571301</td>\n",
       "      <td>...</td>\n",
       "      <td>18.0</td>\n",
       "      <td>17.0</td>\n",
       "      <td>58.0</td>\n",
       "      <td>48.449251</td>\n",
       "      <td>2018.0</td>\n",
       "      <td>9.0</td>\n",
       "      <td>18.0</td>\n",
       "      <td>12.0</td>\n",
       "      <td>14.0</td>\n",
       "      <td>5.0</td>\n",
       "    </tr>\n",
       "    <tr>\n",
       "      <th>...</th>\n",
       "      <td>...</td>\n",
       "      <td>...</td>\n",
       "      <td>...</td>\n",
       "      <td>...</td>\n",
       "      <td>...</td>\n",
       "      <td>...</td>\n",
       "      <td>...</td>\n",
       "      <td>...</td>\n",
       "      <td>...</td>\n",
       "      <td>...</td>\n",
       "      <td>...</td>\n",
       "      <td>...</td>\n",
       "      <td>...</td>\n",
       "      <td>...</td>\n",
       "      <td>...</td>\n",
       "      <td>...</td>\n",
       "      <td>...</td>\n",
       "      <td>...</td>\n",
       "      <td>...</td>\n",
       "      <td>...</td>\n",
       "      <td>...</td>\n",
       "    </tr>\n",
       "    <tr>\n",
       "      <th>72153</th>\n",
       "      <td>dNuV95njhn</td>\n",
       "      <td>1</td>\n",
       "      <td>1132.865742</td>\n",
       "      <td>1</td>\n",
       "      <td>66</td>\n",
       "      <td>135.001150</td>\n",
       "      <td>687.062349</td>\n",
       "      <td>1392.622148</td>\n",
       "      <td>1.950803</td>\n",
       "      <td>55.856356</td>\n",
       "      <td>...</td>\n",
       "      <td>29.0</td>\n",
       "      <td>21.0</td>\n",
       "      <td>49.0</td>\n",
       "      <td>0.323701</td>\n",
       "      <td>2018.0</td>\n",
       "      <td>9.0</td>\n",
       "      <td>29.0</td>\n",
       "      <td>20.0</td>\n",
       "      <td>8.0</td>\n",
       "      <td>31.0</td>\n",
       "    </tr>\n",
       "    <tr>\n",
       "      <th>72154</th>\n",
       "      <td>ZSrzBfWx77</td>\n",
       "      <td>0</td>\n",
       "      <td>355.951299</td>\n",
       "      <td>1</td>\n",
       "      <td>18</td>\n",
       "      <td>74.245265</td>\n",
       "      <td>374.255819</td>\n",
       "      <td>1147.406870</td>\n",
       "      <td>1.927801</td>\n",
       "      <td>35.976514</td>\n",
       "      <td>...</td>\n",
       "      <td>22.0</td>\n",
       "      <td>13.0</td>\n",
       "      <td>46.0</td>\n",
       "      <td>54.235060</td>\n",
       "      <td>2018.0</td>\n",
       "      <td>9.0</td>\n",
       "      <td>22.0</td>\n",
       "      <td>13.0</td>\n",
       "      <td>11.0</td>\n",
       "      <td>21.0</td>\n",
       "    </tr>\n",
       "    <tr>\n",
       "      <th>72155</th>\n",
       "      <td>XsIYBRVK2V</td>\n",
       "      <td>1</td>\n",
       "      <td>737.899031</td>\n",
       "      <td>1</td>\n",
       "      <td>44</td>\n",
       "      <td>54.097087</td>\n",
       "      <td>895.612578</td>\n",
       "      <td>902.191591</td>\n",
       "      <td>2.148569</td>\n",
       "      <td>44.101033</td>\n",
       "      <td>...</td>\n",
       "      <td>15.0</td>\n",
       "      <td>8.0</td>\n",
       "      <td>8.0</td>\n",
       "      <td>11.723169</td>\n",
       "      <td>2018.0</td>\n",
       "      <td>9.0</td>\n",
       "      <td>15.0</td>\n",
       "      <td>6.0</td>\n",
       "      <td>53.0</td>\n",
       "      <td>24.0</td>\n",
       "    </tr>\n",
       "    <tr>\n",
       "      <th>72156</th>\n",
       "      <td>6YwMOShK5E</td>\n",
       "      <td>1</td>\n",
       "      <td>845.738186</td>\n",
       "      <td>1</td>\n",
       "      <td>88</td>\n",
       "      <td>99.918631</td>\n",
       "      <td>895.612578</td>\n",
       "      <td>1393.905281</td>\n",
       "      <td>2.206373</td>\n",
       "      <td>37.771823</td>\n",
       "      <td>...</td>\n",
       "      <td>22.0</td>\n",
       "      <td>18.0</td>\n",
       "      <td>10.0</td>\n",
       "      <td>26.705628</td>\n",
       "      <td>2018.0</td>\n",
       "      <td>9.0</td>\n",
       "      <td>22.0</td>\n",
       "      <td>15.0</td>\n",
       "      <td>42.0</td>\n",
       "      <td>27.0</td>\n",
       "    </tr>\n",
       "    <tr>\n",
       "      <th>72157</th>\n",
       "      <td>K9PVwkfL9T</td>\n",
       "      <td>1</td>\n",
       "      <td>2568.330235</td>\n",
       "      <td>1</td>\n",
       "      <td>264</td>\n",
       "      <td>315.762909</td>\n",
       "      <td>895.612578</td>\n",
       "      <td>1393.905281</td>\n",
       "      <td>2.500283</td>\n",
       "      <td>54.154817</td>\n",
       "      <td>...</td>\n",
       "      <td>14.0</td>\n",
       "      <td>19.0</td>\n",
       "      <td>40.0</td>\n",
       "      <td>20.028790</td>\n",
       "      <td>2018.0</td>\n",
       "      <td>9.0</td>\n",
       "      <td>14.0</td>\n",
       "      <td>9.0</td>\n",
       "      <td>16.0</td>\n",
       "      <td>12.0</td>\n",
       "    </tr>\n",
       "  </tbody>\n",
       "</table>\n",
       "<p>72158 rows × 163 columns</p>\n",
       "</div>"
      ],
      "text/plain": [
       "              UID  route_type  start_scan_to_end_scan  is_cutoff  \\\n",
       "0      lWYYrbNEdf           1              713.521495          1   \n",
       "1      iNJcHQlPCm           1              902.759458          1   \n",
       "2      U6N0M43qwR           1              923.666146          1   \n",
       "3      RrJUneuYNj           1              705.451567          1   \n",
       "4      7QLdD7iRC9           1             1109.682268          1   \n",
       "...           ...         ...                     ...        ...   \n",
       "72153  dNuV95njhn           1             1132.865742          1   \n",
       "72154  ZSrzBfWx77           0              355.951299          1   \n",
       "72155  XsIYBRVK2V           1              737.899031          1   \n",
       "72156  6YwMOShK5E           1              845.738186          1   \n",
       "72157  K9PVwkfL9T           1             2568.330235          1   \n",
       "\n",
       "       cutoff_factor  actual_distance_to_destination    osrm_time  \\\n",
       "0                 44                      158.807515   778.672716   \n",
       "1                 22                       81.388109   227.479029   \n",
       "2                 22                      134.486898   400.072069   \n",
       "3                176                      262.866674   510.123878   \n",
       "4                198                      379.389280  1420.967994   \n",
       "...              ...                             ...          ...   \n",
       "72153             66                      135.001150   687.062349   \n",
       "72154             18                       74.245265   374.255819   \n",
       "72155             44                       54.097087   895.612578   \n",
       "72156             88                       99.918631   895.612578   \n",
       "72157            264                      315.762909   895.612578   \n",
       "\n",
       "       osrm_distance    factor  segment_actual_time  ...  od_end_day  \\\n",
       "0        1228.735753  2.782826            77.988686  ...        15.0   \n",
       "1        1208.839455  3.625248            68.517914  ...         1.0   \n",
       "2        1188.943158  4.415969            70.475386  ...        24.0   \n",
       "3         999.421258  2.946647           101.876844  ...        22.0   \n",
       "4        1738.939687  1.998790            46.571301  ...        18.0   \n",
       "...              ...       ...                  ...  ...         ...   \n",
       "72153    1392.622148  1.950803            55.856356  ...        29.0   \n",
       "72154    1147.406870  1.927801            35.976514  ...        22.0   \n",
       "72155     902.191591  2.148569            44.101033  ...        15.0   \n",
       "72156    1393.905281  2.206373            37.771823  ...        22.0   \n",
       "72157    1393.905281  2.500283            54.154817  ...        14.0   \n",
       "\n",
       "       od_end_hour  od_end_min  od_end_sec  cutoff_timestamp_year  \\\n",
       "0              6.0        33.0   35.824186                 2018.0   \n",
       "1              6.0        48.0   37.637477                 2018.0   \n",
       "2             11.0        15.0    0.826140                 2018.0   \n",
       "3             19.0        17.0   22.242888                 2018.0   \n",
       "4             17.0        58.0   48.449251                 2018.0   \n",
       "...            ...         ...         ...                    ...   \n",
       "72153         21.0        49.0    0.323701                 2018.0   \n",
       "72154         13.0        46.0   54.235060                 2018.0   \n",
       "72155          8.0         8.0   11.723169                 2018.0   \n",
       "72156         18.0        10.0   26.705628                 2018.0   \n",
       "72157         19.0        40.0   20.028790                 2018.0   \n",
       "\n",
       "       cutoff_timestamp_month  cutoff_timestamp_day  cutoff_timestamp_hour  \\\n",
       "0                         9.0                  15.0                    4.0   \n",
       "1                        10.0                   1.0                    5.0   \n",
       "2                         9.0                  24.0                    9.0   \n",
       "3                         9.0                  22.0                   14.0   \n",
       "4                         9.0                  18.0                   12.0   \n",
       "...                       ...                   ...                    ...   \n",
       "72153                     9.0                  29.0                   20.0   \n",
       "72154                     9.0                  22.0                   13.0   \n",
       "72155                     9.0                  15.0                    6.0   \n",
       "72156                     9.0                  22.0                   15.0   \n",
       "72157                     9.0                  14.0                    9.0   \n",
       "\n",
       "       cutoff_timestamp_min  cutoff_timestamp_sec  \n",
       "0                      45.0                  23.0  \n",
       "1                      38.0                  30.0  \n",
       "2                      21.0                  30.0  \n",
       "3                       9.0                  17.0  \n",
       "4                      14.0                   5.0  \n",
       "...                     ...                   ...  \n",
       "72153                   8.0                  31.0  \n",
       "72154                  11.0                  21.0  \n",
       "72155                  53.0                  24.0  \n",
       "72156                  42.0                  27.0  \n",
       "72157                  16.0                  12.0  \n",
       "\n",
       "[72158 rows x 163 columns]"
      ]
     },
     "execution_count": 33,
     "metadata": {},
     "output_type": "execute_result"
    }
   ],
   "source": [
    "df"
   ]
  }
 ],
 "metadata": {
  "kernelspec": {
   "display_name": "Python 3",
   "language": "python",
   "name": "python3"
  },
  "language_info": {
   "codemirror_mode": {
    "name": "ipython",
    "version": 3
   },
   "file_extension": ".py",
   "mimetype": "text/x-python",
   "name": "python",
   "nbconvert_exporter": "python",
   "pygments_lexer": "ipython3",
   "version": "3.10.2"
  },
  "orig_nbformat": 4
 },
 "nbformat": 4,
 "nbformat_minor": 2
}
