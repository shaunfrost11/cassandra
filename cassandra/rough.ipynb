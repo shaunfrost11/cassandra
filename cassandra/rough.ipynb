{
 "cells": [
  {
   "cell_type": "code",
   "execution_count": 2,
   "metadata": {},
   "outputs": [],
   "source": [
    "import numpy as np\n",
    "import pandas as pd \n",
    "import matplotlib.pyplot as plt\n",
    "import seaborn as sns\n",
    "import missingno as msno\n",
    "from sklearn.preprocessing import LabelEncoder"
   ]
  },
  {
   "cell_type": "code",
   "execution_count": 3,
   "metadata": {},
   "outputs": [],
   "source": [
    "df = pd.read_csv('dataset/test_data.csv')"
   ]
  },
  {
   "cell_type": "code",
   "execution_count": null,
   "metadata": {},
   "outputs": [],
   "source": [
    "df.head(5)"
   ]
  },
  {
   "cell_type": "code",
   "execution_count": null,
   "metadata": {},
   "outputs": [],
   "source": [
    "df['route_type'].unique()"
   ]
  },
  {
   "cell_type": "code",
   "execution_count": 5,
   "metadata": {},
   "outputs": [],
   "source": [
    "df_1 = df.drop(['cutoff_factor','cutoff_timestamp','segment_factor'],axis=1)"
   ]
  },
  {
   "cell_type": "code",
   "execution_count": 6,
   "metadata": {},
   "outputs": [
    {
     "data": {
      "text/plain": [
       "(72158, 18)"
      ]
     },
     "execution_count": 6,
     "metadata": {},
     "output_type": "execute_result"
    }
   ],
   "source": [
    "df_1.shape"
   ]
  },
  {
   "cell_type": "code",
   "execution_count": 8,
   "metadata": {},
   "outputs": [
    {
     "name": "stdout",
     "output_type": "stream",
     "text": [
      "<class 'pandas.core.frame.DataFrame'>\n",
      "RangeIndex: 72158 entries, 0 to 72157\n",
      "Data columns (total 25 columns):\n",
      " #   Column                          Non-Null Count  Dtype  \n",
      "---  ------                          --------------  -----  \n",
      " 0   UID                             72158 non-null  object \n",
      " 1   trip_creation_time              72158 non-null  object \n",
      " 2   route_schedule_uuid             72158 non-null  object \n",
      " 3   route_type                      72158 non-null  object \n",
      " 4   trip_uuid                       72158 non-null  object \n",
      " 5   source_center                   72158 non-null  object \n",
      " 6   source_name                     72158 non-null  object \n",
      " 7   destination_center              72158 non-null  object \n",
      " 8   destination_name                72158 non-null  object \n",
      " 9   od_start_time                   72158 non-null  object \n",
      " 10  od_end_time                     72158 non-null  object \n",
      " 11  start_scan_to_end_scan          72158 non-null  float64\n",
      " 12  is_cutoff                       72158 non-null  bool   \n",
      " 13  cutoff_factor                   72158 non-null  int64  \n",
      " 14  cutoff_timestamp                72158 non-null  object \n",
      " 15  actual_distance_to_destination  72158 non-null  float64\n",
      " 16  osrm_time                       72158 non-null  float64\n",
      " 17  osrm_distance                   72158 non-null  float64\n",
      " 18  factor                          72158 non-null  float64\n",
      " 19  segment_actual_time             72158 non-null  float64\n",
      " 20  segment_osrm_time               72158 non-null  float64\n",
      " 21  segment_osrm_distance           72158 non-null  float64\n",
      " 22  segment_factor                  72158 non-null  float64\n",
      " 23  date                            72158 non-null  object \n",
      " 24  time                            72158 non-null  object \n",
      "dtypes: bool(1), float64(9), int64(1), object(14)\n",
      "memory usage: 13.3+ MB\n"
     ]
    }
   ],
   "source": [
    "df.info()"
   ]
  },
  {
   "cell_type": "code",
   "execution_count": null,
   "metadata": {},
   "outputs": [],
   "source": [
    "df['route_type']"
   ]
  },
  {
   "cell_type": "code",
   "execution_count": 9,
   "metadata": {},
   "outputs": [],
   "source": [
    "df.loc[df['route_type'] == 'Carting', 'route_type'] = 0\n",
    "df.loc[df['route_type'] != 0, 'route_type'] = 1"
   ]
  },
  {
   "cell_type": "code",
   "execution_count": null,
   "metadata": {},
   "outputs": [],
   "source": [
    "df.value_counts"
   ]
  },
  {
   "cell_type": "code",
   "execution_count": null,
   "metadata": {},
   "outputs": [],
   "source": [
    "fig, ax = plt.subplots()\n",
    "msno.bar(df, ax=ax, color=(0.25, 0.7, 0.25))"
   ]
  },
  {
   "cell_type": "code",
   "execution_count": 12,
   "metadata": {},
   "outputs": [
    {
     "data": {
      "text/plain": [
       "13494"
      ]
     },
     "execution_count": 12,
     "metadata": {},
     "output_type": "execute_result"
    }
   ],
   "source": [
    "array=df['trip_creation_time'].value_counts()\n",
    "len(array)"
   ]
  },
  {
   "cell_type": "code",
   "execution_count": 7,
   "metadata": {},
   "outputs": [
    {
     "data": {
      "text/html": [
       "<div>\n",
       "<style scoped>\n",
       "    .dataframe tbody tr th:only-of-type {\n",
       "        vertical-align: middle;\n",
       "    }\n",
       "\n",
       "    .dataframe tbody tr th {\n",
       "        vertical-align: top;\n",
       "    }\n",
       "\n",
       "    .dataframe thead th {\n",
       "        text-align: right;\n",
       "    }\n",
       "</style>\n",
       "<table border=\"1\" class=\"dataframe\">\n",
       "  <thead>\n",
       "    <tr style=\"text-align: right;\">\n",
       "      <th></th>\n",
       "      <th>UID</th>\n",
       "      <th>trip_creation_time</th>\n",
       "      <th>route_schedule_uuid</th>\n",
       "      <th>route_type</th>\n",
       "      <th>trip_uuid</th>\n",
       "      <th>source_center</th>\n",
       "      <th>source_name</th>\n",
       "      <th>destination_center</th>\n",
       "      <th>destination_name</th>\n",
       "      <th>od_start_time</th>\n",
       "      <th>...</th>\n",
       "      <th>actual_distance_to_destination</th>\n",
       "      <th>osrm_time</th>\n",
       "      <th>osrm_distance</th>\n",
       "      <th>factor</th>\n",
       "      <th>segment_actual_time</th>\n",
       "      <th>segment_osrm_time</th>\n",
       "      <th>segment_osrm_distance</th>\n",
       "      <th>segment_factor</th>\n",
       "      <th>date</th>\n",
       "      <th>time</th>\n",
       "    </tr>\n",
       "  </thead>\n",
       "  <tbody>\n",
       "    <tr>\n",
       "      <th>0</th>\n",
       "      <td>XMsT9clviB</td>\n",
       "      <td>2018-09-20 02:35:36.476840</td>\n",
       "      <td>thanos::sroute:eb7bfc78-b351-4c0e-a951-fa3d5c3...</td>\n",
       "      <td>Carting</td>\n",
       "      <td>trip-153741093647649320</td>\n",
       "      <td>IND388121AAA</td>\n",
       "      <td>Anand_VUNagar_DC (Gujarat)</td>\n",
       "      <td>IND388620AAB</td>\n",
       "      <td>Khambhat_MotvdDPP_D (Gujarat)</td>\n",
       "      <td>2018-09-20 03:21:32.418600</td>\n",
       "      <td>...</td>\n",
       "      <td>27.637279</td>\n",
       "      <td>28.0</td>\n",
       "      <td>32.5395</td>\n",
       "      <td>1.428571</td>\n",
       "      <td>16.0</td>\n",
       "      <td>7.0</td>\n",
       "      <td>10.8152</td>\n",
       "      <td>2.285714</td>\n",
       "      <td>2018-09-20</td>\n",
       "      <td>02:35:36.476840</td>\n",
       "    </tr>\n",
       "    <tr>\n",
       "      <th>1</th>\n",
       "      <td>1iUuyRUZ2Y</td>\n",
       "      <td>2018-09-20 02:35:36.476840</td>\n",
       "      <td>thanos::sroute:eb7bfc78-b351-4c0e-a951-fa3d5c3...</td>\n",
       "      <td>Carting</td>\n",
       "      <td>trip-153741093647649320</td>\n",
       "      <td>IND388121AAA</td>\n",
       "      <td>Anand_VUNagar_DC (Gujarat)</td>\n",
       "      <td>IND388620AAB</td>\n",
       "      <td>Khambhat_MotvdDPP_D (Gujarat)</td>\n",
       "      <td>2018-09-20 03:21:32.418600</td>\n",
       "      <td>...</td>\n",
       "      <td>39.386040</td>\n",
       "      <td>44.0</td>\n",
       "      <td>54.2181</td>\n",
       "      <td>1.545455</td>\n",
       "      <td>6.0</td>\n",
       "      <td>5.0</td>\n",
       "      <td>3.9153</td>\n",
       "      <td>1.200000</td>\n",
       "      <td>2018-09-20</td>\n",
       "      <td>02:35:36.476840</td>\n",
       "    </tr>\n",
       "    <tr>\n",
       "      <th>2</th>\n",
       "      <td>wancwiAIU3</td>\n",
       "      <td>2018-09-20 02:35:36.476840</td>\n",
       "      <td>thanos::sroute:eb7bfc78-b351-4c0e-a951-fa3d5c3...</td>\n",
       "      <td>Carting</td>\n",
       "      <td>trip-153741093647649320</td>\n",
       "      <td>IND388620AAB</td>\n",
       "      <td>Khambhat_MotvdDPP_D (Gujarat)</td>\n",
       "      <td>IND388320AAA</td>\n",
       "      <td>Anand_Vaghasi_IP (Gujarat)</td>\n",
       "      <td>2018-09-20 04:47:45.236797</td>\n",
       "      <td>...</td>\n",
       "      <td>10.403038</td>\n",
       "      <td>11.0</td>\n",
       "      <td>12.1171</td>\n",
       "      <td>1.363636</td>\n",
       "      <td>15.0</td>\n",
       "      <td>11.0</td>\n",
       "      <td>12.1171</td>\n",
       "      <td>1.363636</td>\n",
       "      <td>2018-09-20</td>\n",
       "      <td>02:35:36.476840</td>\n",
       "    </tr>\n",
       "    <tr>\n",
       "      <th>3</th>\n",
       "      <td>1tIt8EwJjB</td>\n",
       "      <td>2018-09-20 02:35:36.476840</td>\n",
       "      <td>thanos::sroute:eb7bfc78-b351-4c0e-a951-fa3d5c3...</td>\n",
       "      <td>Carting</td>\n",
       "      <td>trip-153741093647649320</td>\n",
       "      <td>IND388620AAB</td>\n",
       "      <td>Khambhat_MotvdDPP_D (Gujarat)</td>\n",
       "      <td>IND388320AAA</td>\n",
       "      <td>Anand_Vaghasi_IP (Gujarat)</td>\n",
       "      <td>2018-09-20 04:47:45.236797</td>\n",
       "      <td>...</td>\n",
       "      <td>38.939167</td>\n",
       "      <td>39.0</td>\n",
       "      <td>47.1900</td>\n",
       "      <td>1.948718</td>\n",
       "      <td>10.0</td>\n",
       "      <td>10.0</td>\n",
       "      <td>11.3648</td>\n",
       "      <td>1.000000</td>\n",
       "      <td>2018-09-20</td>\n",
       "      <td>02:35:36.476840</td>\n",
       "    </tr>\n",
       "    <tr>\n",
       "      <th>4</th>\n",
       "      <td>W2vL6bJrjt</td>\n",
       "      <td>2018-09-23 06:42:06.021680</td>\n",
       "      <td>thanos::sroute:ff52ef7a-4d0d-4063-9bfe-cc21172...</td>\n",
       "      <td>FTL</td>\n",
       "      <td>trip-153768492602129387</td>\n",
       "      <td>IND421302AAG</td>\n",
       "      <td>Bhiwandi_Mankoli_HB (Maharashtra)</td>\n",
       "      <td>IND411033AAA</td>\n",
       "      <td>Pune_Tathawde_H (Maharashtra)</td>\n",
       "      <td>2018-09-23 06:42:06.021680</td>\n",
       "      <td>...</td>\n",
       "      <td>23.194334</td>\n",
       "      <td>24.0</td>\n",
       "      <td>26.8622</td>\n",
       "      <td>1.583333</td>\n",
       "      <td>38.0</td>\n",
       "      <td>24.0</td>\n",
       "      <td>26.8622</td>\n",
       "      <td>1.583333</td>\n",
       "      <td>2018-09-23</td>\n",
       "      <td>06:42:06.021680</td>\n",
       "    </tr>\n",
       "    <tr>\n",
       "      <th>...</th>\n",
       "      <td>...</td>\n",
       "      <td>...</td>\n",
       "      <td>...</td>\n",
       "      <td>...</td>\n",
       "      <td>...</td>\n",
       "      <td>...</td>\n",
       "      <td>...</td>\n",
       "      <td>...</td>\n",
       "      <td>...</td>\n",
       "      <td>...</td>\n",
       "      <td>...</td>\n",
       "      <td>...</td>\n",
       "      <td>...</td>\n",
       "      <td>...</td>\n",
       "      <td>...</td>\n",
       "      <td>...</td>\n",
       "      <td>...</td>\n",
       "      <td>...</td>\n",
       "      <td>...</td>\n",
       "      <td>...</td>\n",
       "      <td>...</td>\n",
       "    </tr>\n",
       "    <tr>\n",
       "      <th>72153</th>\n",
       "      <td>L5IrEpNBFb</td>\n",
       "      <td>2018-09-20 16:24:28.436231</td>\n",
       "      <td>thanos::sroute:f0569d2f-4e20-4c31-8542-67b86d5...</td>\n",
       "      <td>Carting</td>\n",
       "      <td>trip-153746066843555182</td>\n",
       "      <td>IND131028AAB</td>\n",
       "      <td>Sonipat_Kundli_H (Haryana)</td>\n",
       "      <td>IND000000ACB</td>\n",
       "      <td>Gurgaon_Bilaspur_HB (Haryana)</td>\n",
       "      <td>2018-09-20 16:24:28.436231</td>\n",
       "      <td>...</td>\n",
       "      <td>11.080143</td>\n",
       "      <td>23.0</td>\n",
       "      <td>15.3398</td>\n",
       "      <td>1.913043</td>\n",
       "      <td>44.0</td>\n",
       "      <td>23.0</td>\n",
       "      <td>15.3398</td>\n",
       "      <td>1.913043</td>\n",
       "      <td>2018-09-20</td>\n",
       "      <td>16:24:28.436231</td>\n",
       "    </tr>\n",
       "    <tr>\n",
       "      <th>72154</th>\n",
       "      <td>s5TDXjnN3s</td>\n",
       "      <td>2018-09-20 16:24:28.436231</td>\n",
       "      <td>thanos::sroute:f0569d2f-4e20-4c31-8542-67b86d5...</td>\n",
       "      <td>Carting</td>\n",
       "      <td>trip-153746066843555182</td>\n",
       "      <td>IND131028AAB</td>\n",
       "      <td>Sonipat_Kundli_H (Haryana)</td>\n",
       "      <td>IND000000ACB</td>\n",
       "      <td>Gurgaon_Bilaspur_HB (Haryana)</td>\n",
       "      <td>2018-09-20 16:24:28.436231</td>\n",
       "      <td>...</td>\n",
       "      <td>19.221595</td>\n",
       "      <td>35.0</td>\n",
       "      <td>34.4366</td>\n",
       "      <td>1.600000</td>\n",
       "      <td>12.0</td>\n",
       "      <td>26.0</td>\n",
       "      <td>16.9842</td>\n",
       "      <td>0.461538</td>\n",
       "      <td>2018-09-20</td>\n",
       "      <td>16:24:28.436231</td>\n",
       "    </tr>\n",
       "    <tr>\n",
       "      <th>72155</th>\n",
       "      <td>0croXy5yK5</td>\n",
       "      <td>2018-09-20 16:24:28.436231</td>\n",
       "      <td>thanos::sroute:f0569d2f-4e20-4c31-8542-67b86d5...</td>\n",
       "      <td>Carting</td>\n",
       "      <td>trip-153746066843555182</td>\n",
       "      <td>IND131028AAB</td>\n",
       "      <td>Sonipat_Kundli_H (Haryana)</td>\n",
       "      <td>IND000000ACB</td>\n",
       "      <td>Gurgaon_Bilaspur_HB (Haryana)</td>\n",
       "      <td>2018-09-20 16:24:28.436231</td>\n",
       "      <td>...</td>\n",
       "      <td>27.964113</td>\n",
       "      <td>50.0</td>\n",
       "      <td>50.7273</td>\n",
       "      <td>1.400000</td>\n",
       "      <td>13.0</td>\n",
       "      <td>21.0</td>\n",
       "      <td>15.2911</td>\n",
       "      <td>0.619048</td>\n",
       "      <td>2018-09-20</td>\n",
       "      <td>16:24:28.436231</td>\n",
       "    </tr>\n",
       "    <tr>\n",
       "      <th>72156</th>\n",
       "      <td>P0okvBa2Ik</td>\n",
       "      <td>2018-09-20 16:24:28.436231</td>\n",
       "      <td>thanos::sroute:f0569d2f-4e20-4c31-8542-67b86d5...</td>\n",
       "      <td>Carting</td>\n",
       "      <td>trip-153746066843555182</td>\n",
       "      <td>IND131028AAB</td>\n",
       "      <td>Sonipat_Kundli_H (Haryana)</td>\n",
       "      <td>IND000000ACB</td>\n",
       "      <td>Gurgaon_Bilaspur_HB (Haryana)</td>\n",
       "      <td>2018-09-20 16:24:28.436231</td>\n",
       "      <td>...</td>\n",
       "      <td>45.258278</td>\n",
       "      <td>60.0</td>\n",
       "      <td>67.9280</td>\n",
       "      <td>1.566667</td>\n",
       "      <td>12.0</td>\n",
       "      <td>12.0</td>\n",
       "      <td>8.1858</td>\n",
       "      <td>1.000000</td>\n",
       "      <td>2018-09-20</td>\n",
       "      <td>16:24:28.436231</td>\n",
       "    </tr>\n",
       "    <tr>\n",
       "      <th>72157</th>\n",
       "      <td>OVi46puumU</td>\n",
       "      <td>2018-09-20 16:24:28.436231</td>\n",
       "      <td>thanos::sroute:f0569d2f-4e20-4c31-8542-67b86d5...</td>\n",
       "      <td>Carting</td>\n",
       "      <td>trip-153746066843555182</td>\n",
       "      <td>IND131028AAB</td>\n",
       "      <td>Sonipat_Kundli_H (Haryana)</td>\n",
       "      <td>IND000000ACB</td>\n",
       "      <td>Gurgaon_Bilaspur_HB (Haryana)</td>\n",
       "      <td>2018-09-20 16:24:28.436231</td>\n",
       "      <td>...</td>\n",
       "      <td>66.163591</td>\n",
       "      <td>88.0</td>\n",
       "      <td>97.0933</td>\n",
       "      <td>1.590909</td>\n",
       "      <td>20.0</td>\n",
       "      <td>34.0</td>\n",
       "      <td>20.7053</td>\n",
       "      <td>0.588235</td>\n",
       "      <td>2018-09-20</td>\n",
       "      <td>16:24:28.436231</td>\n",
       "    </tr>\n",
       "  </tbody>\n",
       "</table>\n",
       "<p>72158 rows × 25 columns</p>\n",
       "</div>"
      ],
      "text/plain": [
       "              UID          trip_creation_time  \\\n",
       "0      XMsT9clviB  2018-09-20 02:35:36.476840   \n",
       "1      1iUuyRUZ2Y  2018-09-20 02:35:36.476840   \n",
       "2      wancwiAIU3  2018-09-20 02:35:36.476840   \n",
       "3      1tIt8EwJjB  2018-09-20 02:35:36.476840   \n",
       "4      W2vL6bJrjt  2018-09-23 06:42:06.021680   \n",
       "...           ...                         ...   \n",
       "72153  L5IrEpNBFb  2018-09-20 16:24:28.436231   \n",
       "72154  s5TDXjnN3s  2018-09-20 16:24:28.436231   \n",
       "72155  0croXy5yK5  2018-09-20 16:24:28.436231   \n",
       "72156  P0okvBa2Ik  2018-09-20 16:24:28.436231   \n",
       "72157  OVi46puumU  2018-09-20 16:24:28.436231   \n",
       "\n",
       "                                     route_schedule_uuid route_type  \\\n",
       "0      thanos::sroute:eb7bfc78-b351-4c0e-a951-fa3d5c3...    Carting   \n",
       "1      thanos::sroute:eb7bfc78-b351-4c0e-a951-fa3d5c3...    Carting   \n",
       "2      thanos::sroute:eb7bfc78-b351-4c0e-a951-fa3d5c3...    Carting   \n",
       "3      thanos::sroute:eb7bfc78-b351-4c0e-a951-fa3d5c3...    Carting   \n",
       "4      thanos::sroute:ff52ef7a-4d0d-4063-9bfe-cc21172...        FTL   \n",
       "...                                                  ...        ...   \n",
       "72153  thanos::sroute:f0569d2f-4e20-4c31-8542-67b86d5...    Carting   \n",
       "72154  thanos::sroute:f0569d2f-4e20-4c31-8542-67b86d5...    Carting   \n",
       "72155  thanos::sroute:f0569d2f-4e20-4c31-8542-67b86d5...    Carting   \n",
       "72156  thanos::sroute:f0569d2f-4e20-4c31-8542-67b86d5...    Carting   \n",
       "72157  thanos::sroute:f0569d2f-4e20-4c31-8542-67b86d5...    Carting   \n",
       "\n",
       "                     trip_uuid source_center  \\\n",
       "0      trip-153741093647649320  IND388121AAA   \n",
       "1      trip-153741093647649320  IND388121AAA   \n",
       "2      trip-153741093647649320  IND388620AAB   \n",
       "3      trip-153741093647649320  IND388620AAB   \n",
       "4      trip-153768492602129387  IND421302AAG   \n",
       "...                        ...           ...   \n",
       "72153  trip-153746066843555182  IND131028AAB   \n",
       "72154  trip-153746066843555182  IND131028AAB   \n",
       "72155  trip-153746066843555182  IND131028AAB   \n",
       "72156  trip-153746066843555182  IND131028AAB   \n",
       "72157  trip-153746066843555182  IND131028AAB   \n",
       "\n",
       "                             source_name destination_center  \\\n",
       "0             Anand_VUNagar_DC (Gujarat)       IND388620AAB   \n",
       "1             Anand_VUNagar_DC (Gujarat)       IND388620AAB   \n",
       "2          Khambhat_MotvdDPP_D (Gujarat)       IND388320AAA   \n",
       "3          Khambhat_MotvdDPP_D (Gujarat)       IND388320AAA   \n",
       "4      Bhiwandi_Mankoli_HB (Maharashtra)       IND411033AAA   \n",
       "...                                  ...                ...   \n",
       "72153         Sonipat_Kundli_H (Haryana)       IND000000ACB   \n",
       "72154         Sonipat_Kundli_H (Haryana)       IND000000ACB   \n",
       "72155         Sonipat_Kundli_H (Haryana)       IND000000ACB   \n",
       "72156         Sonipat_Kundli_H (Haryana)       IND000000ACB   \n",
       "72157         Sonipat_Kundli_H (Haryana)       IND000000ACB   \n",
       "\n",
       "                    destination_name               od_start_time  ...  \\\n",
       "0      Khambhat_MotvdDPP_D (Gujarat)  2018-09-20 03:21:32.418600  ...   \n",
       "1      Khambhat_MotvdDPP_D (Gujarat)  2018-09-20 03:21:32.418600  ...   \n",
       "2         Anand_Vaghasi_IP (Gujarat)  2018-09-20 04:47:45.236797  ...   \n",
       "3         Anand_Vaghasi_IP (Gujarat)  2018-09-20 04:47:45.236797  ...   \n",
       "4      Pune_Tathawde_H (Maharashtra)  2018-09-23 06:42:06.021680  ...   \n",
       "...                              ...                         ...  ...   \n",
       "72153  Gurgaon_Bilaspur_HB (Haryana)  2018-09-20 16:24:28.436231  ...   \n",
       "72154  Gurgaon_Bilaspur_HB (Haryana)  2018-09-20 16:24:28.436231  ...   \n",
       "72155  Gurgaon_Bilaspur_HB (Haryana)  2018-09-20 16:24:28.436231  ...   \n",
       "72156  Gurgaon_Bilaspur_HB (Haryana)  2018-09-20 16:24:28.436231  ...   \n",
       "72157  Gurgaon_Bilaspur_HB (Haryana)  2018-09-20 16:24:28.436231  ...   \n",
       "\n",
       "      actual_distance_to_destination  osrm_time  osrm_distance    factor  \\\n",
       "0                          27.637279       28.0        32.5395  1.428571   \n",
       "1                          39.386040       44.0        54.2181  1.545455   \n",
       "2                          10.403038       11.0        12.1171  1.363636   \n",
       "3                          38.939167       39.0        47.1900  1.948718   \n",
       "4                          23.194334       24.0        26.8622  1.583333   \n",
       "...                              ...        ...            ...       ...   \n",
       "72153                      11.080143       23.0        15.3398  1.913043   \n",
       "72154                      19.221595       35.0        34.4366  1.600000   \n",
       "72155                      27.964113       50.0        50.7273  1.400000   \n",
       "72156                      45.258278       60.0        67.9280  1.566667   \n",
       "72157                      66.163591       88.0        97.0933  1.590909   \n",
       "\n",
       "      segment_actual_time  segment_osrm_time  segment_osrm_distance  \\\n",
       "0                    16.0                7.0                10.8152   \n",
       "1                     6.0                5.0                 3.9153   \n",
       "2                    15.0               11.0                12.1171   \n",
       "3                    10.0               10.0                11.3648   \n",
       "4                    38.0               24.0                26.8622   \n",
       "...                   ...                ...                    ...   \n",
       "72153                44.0               23.0                15.3398   \n",
       "72154                12.0               26.0                16.9842   \n",
       "72155                13.0               21.0                15.2911   \n",
       "72156                12.0               12.0                 8.1858   \n",
       "72157                20.0               34.0                20.7053   \n",
       "\n",
       "       segment_factor        date             time  \n",
       "0            2.285714  2018-09-20  02:35:36.476840  \n",
       "1            1.200000  2018-09-20  02:35:36.476840  \n",
       "2            1.363636  2018-09-20  02:35:36.476840  \n",
       "3            1.000000  2018-09-20  02:35:36.476840  \n",
       "4            1.583333  2018-09-23  06:42:06.021680  \n",
       "...               ...         ...              ...  \n",
       "72153        1.913043  2018-09-20  16:24:28.436231  \n",
       "72154        0.461538  2018-09-20  16:24:28.436231  \n",
       "72155        0.619048  2018-09-20  16:24:28.436231  \n",
       "72156        1.000000  2018-09-20  16:24:28.436231  \n",
       "72157        0.588235  2018-09-20  16:24:28.436231  \n",
       "\n",
       "[72158 rows x 25 columns]"
      ]
     },
     "execution_count": 7,
     "metadata": {},
     "output_type": "execute_result"
    }
   ],
   "source": [
    "df[['date','time']] = df['trip_creation_time'].str.split(' ',expand=True)\n",
    "df"
   ]
  },
  {
   "cell_type": "code",
   "execution_count": 6,
   "metadata": {},
   "outputs": [
    {
     "data": {
      "text/plain": [
       "Index(['UID', 'trip_creation_time', 'route_schedule_uuid', 'route_type',\n",
       "       'trip_uuid', 'source_center', 'source_name', 'destination_center',\n",
       "       'destination_name', 'od_start_time', 'od_end_time',\n",
       "       'start_scan_to_end_scan', 'is_cutoff', 'cutoff_factor',\n",
       "       'cutoff_timestamp', 'actual_distance_to_destination', 'osrm_time',\n",
       "       'osrm_distance', 'factor', 'segment_actual_time', 'segment_osrm_time',\n",
       "       'segment_osrm_distance', 'segment_factor'],\n",
       "      dtype='object')"
      ]
     },
     "execution_count": 6,
     "metadata": {},
     "output_type": "execute_result"
    }
   ],
   "source": [
    "df.columns"
   ]
  },
  {
   "cell_type": "code",
   "execution_count": 15,
   "metadata": {},
   "outputs": [
    {
     "data": {
      "text/plain": [
       "1466"
      ]
     },
     "execution_count": 15,
     "metadata": {},
     "output_type": "execute_result"
    }
   ],
   "source": [
    "array = df['route_schedule_uuid'].value_counts()\n",
    "len(array)"
   ]
  },
  {
   "cell_type": "code",
   "execution_count": 16,
   "metadata": {},
   "outputs": [
    {
     "data": {
      "text/plain": [
       "13494"
      ]
     },
     "execution_count": 16,
     "metadata": {},
     "output_type": "execute_result"
    }
   ],
   "source": [
    "array = df['trip_uuid'].value_counts()\n",
    "len(array)"
   ]
  },
  {
   "cell_type": "code",
   "execution_count": 17,
   "metadata": {},
   "outputs": [],
   "source": [
    "mapping_dict = df.groupby('destination_name')['destination_center'].last().to_dict()\n",
    "df['destination_center'] = df['destination_center'].fillna(df['destination_name'].map(mapping_dict))"
   ]
  },
  {
   "cell_type": "code",
   "execution_count": 18,
   "metadata": {},
   "outputs": [],
   "source": [
    "df['factor'].fillna(df['factor'].mean(),inplace=True)\n",
    "df['segment_factor'].fillna(df['segment_factor'].mean(),inplace=True)"
   ]
  },
  {
   "cell_type": "code",
   "execution_count": 19,
   "metadata": {},
   "outputs": [],
   "source": [
    "df = df.drop(['route_schedule_uuid','source_name','destination_name','od_start_time','od_end_time','trip_creation_time','osrm_distance','osrm_time'],axis=1)"
   ]
  },
  {
   "cell_type": "code",
   "execution_count": 20,
   "metadata": {},
   "outputs": [],
   "source": [
    "df.loc[df['is_cutoff'] == 'TRUE', 'is_cutoff'] = 0\n",
    "df.loc[df['is_cutoff'] != 0, 'is_cutoff'] = 1"
   ]
  },
  {
   "cell_type": "code",
   "execution_count": 21,
   "metadata": {},
   "outputs": [],
   "source": [
    "df[['cutoff_date','cutoff_time']] = df['cutoff_timestamp'].str.split(' ',expand=True)\n",
    "df = df.drop(['cutoff_timestamp'],axis=1)"
   ]
  },
  {
   "cell_type": "code",
   "execution_count": null,
   "metadata": {},
   "outputs": [],
   "source": [
    "df"
   ]
  },
  {
   "cell_type": "code",
   "execution_count": null,
   "metadata": {},
   "outputs": [],
   "source": [
    "df[['trip','trip-uuid']] = df['trip_uuid'].str.split('-',expand=True)\n",
    "df = df.drop(['trip_uuid'],axis=1)\n",
    "df = df.drop(['trip'],axis=1)\n",
    "df"
   ]
  },
  {
   "cell_type": "code",
   "execution_count": null,
   "metadata": {},
   "outputs": [],
   "source": [
    "df.isnull().sum()"
   ]
  },
  {
   "cell_type": "code",
   "execution_count": 25,
   "metadata": {},
   "outputs": [
    {
     "data": {
      "text/plain": [
       "(72158, 18)"
      ]
     },
     "execution_count": 25,
     "metadata": {},
     "output_type": "execute_result"
    }
   ],
   "source": [
    "df.shape"
   ]
  },
  {
   "cell_type": "code",
   "execution_count": 26,
   "metadata": {},
   "outputs": [
    {
     "data": {
      "text/plain": [
       "(72158, 18)"
      ]
     },
     "execution_count": 26,
     "metadata": {},
     "output_type": "execute_result"
    }
   ],
   "source": [
    "df.dropna(inplace=True)\n",
    "df.shape"
   ]
  },
  {
   "cell_type": "code",
   "execution_count": 27,
   "metadata": {},
   "outputs": [
    {
     "data": {
      "text/plain": [
       "'388121'"
      ]
     },
     "execution_count": 27,
     "metadata": {},
     "output_type": "execute_result"
    }
   ],
   "source": [
    "df['source_center'][0][3:9]"
   ]
  },
  {
   "cell_type": "code",
   "execution_count": 28,
   "metadata": {},
   "outputs": [],
   "source": [
    "df['source_center_number'] = df['source_center'].str[3:9]\n",
    "df['source_center_name'] = df['source_center'].str[9:12]"
   ]
  },
  {
   "cell_type": "code",
   "execution_count": 29,
   "metadata": {},
   "outputs": [],
   "source": [
    "df.drop(['source_center'],axis=1,inplace=True)"
   ]
  },
  {
   "cell_type": "code",
   "execution_count": null,
   "metadata": {},
   "outputs": [],
   "source": [
    "df.head(25)"
   ]
  },
  {
   "cell_type": "code",
   "execution_count": 31,
   "metadata": {},
   "outputs": [],
   "source": [
    "df['destination_center_number'] = df['destination_center'].str[3:9]\n",
    "df['destination_center_name'] = df['destination_center'].str[9:12]\n",
    "df.drop(['destination_center'],axis=1,inplace=True)"
   ]
  },
  {
   "cell_type": "code",
   "execution_count": null,
   "metadata": {},
   "outputs": [],
   "source": [
    "df"
   ]
  },
  {
   "cell_type": "code",
   "execution_count": 32,
   "metadata": {},
   "outputs": [],
   "source": [
    "df['datetime'] = pd.to_datetime(df['date'] + ' ' + df['time'])\n",
    "\n",
    "# combine cutoff_date and cutoff_time columns into datetime object\n",
    "df['cutoff_datetime'] = pd.to_datetime(df['cutoff_date'] + ' ' + df['cutoff_time'])\n",
    "\n",
    "# calculate time elapsed as timedelta object\n",
    "df['time_elapsed'] = df['cutoff_datetime'] - df['datetime']"
   ]
  },
  {
   "cell_type": "code",
   "execution_count": null,
   "metadata": {},
   "outputs": [],
   "source": [
    "df"
   ]
  },
  {
   "cell_type": "code",
   "execution_count": 33,
   "metadata": {},
   "outputs": [],
   "source": [
    "df.drop(['date','time','cutoff_date','cutoff_time',],axis=1,inplace=True)"
   ]
  },
  {
   "cell_type": "code",
   "execution_count": null,
   "metadata": {},
   "outputs": [],
   "source": [
    "df"
   ]
  },
  {
   "cell_type": "code",
   "execution_count": 34,
   "metadata": {},
   "outputs": [],
   "source": [
    "df.drop(['datetime','cutoff_datetime'],axis=1,inplace=True)"
   ]
  },
  {
   "cell_type": "code",
   "execution_count": null,
   "metadata": {},
   "outputs": [],
   "source": [
    "df"
   ]
  },
  {
   "cell_type": "code",
   "execution_count": 35,
   "metadata": {},
   "outputs": [
    {
     "data": {
      "text/plain": [
       "(72158, 17)"
      ]
     },
     "execution_count": 35,
     "metadata": {},
     "output_type": "execute_result"
    }
   ],
   "source": [
    "df.shape"
   ]
  },
  {
   "cell_type": "code",
   "execution_count": 36,
   "metadata": {},
   "outputs": [],
   "source": [
    "df['time_elapsed_hours'] = df['time_elapsed'].dt.total_seconds() / 3600"
   ]
  },
  {
   "cell_type": "code",
   "execution_count": null,
   "metadata": {},
   "outputs": [],
   "source": [
    "df"
   ]
  },
  {
   "cell_type": "code",
   "execution_count": 37,
   "metadata": {},
   "outputs": [],
   "source": [
    "df.drop(['time_elapsed'],axis=1,inplace=True)"
   ]
  },
  {
   "cell_type": "code",
   "execution_count": 38,
   "metadata": {},
   "outputs": [
    {
     "data": {
      "text/plain": [
       "array(['AAA', 'AAB', 'AAG', 'ACA', 'AAC', 'AAD', 'ACK', 'ACB', 'ABA',\n",
       "       'AAE', 'AFT', 'AAN', 'AAM', 'AAR', 'ACT', 'AAK', 'AFJ', 'ADV',\n",
       "       'AAF', 'AA', 'ABD', 'AFG', 'AAL', 'ACN', 'ABG', 'AAJ', 'AAI',\n",
       "       'AEM', 'AEL', 'AET', 'AFR', 'AFF', 'AAS', 'AAH', 'ADM', 'AAQ'],\n",
       "      dtype=object)"
      ]
     },
     "execution_count": 38,
     "metadata": {},
     "output_type": "execute_result"
    }
   ],
   "source": [
    "df['source_center_name'].unique()"
   ]
  },
  {
   "cell_type": "code",
   "execution_count": 39,
   "metadata": {},
   "outputs": [
    {
     "data": {
      "text/plain": [
       "array(['AAB', 'AAA', 'AAD', 'ACA', 'AAE', 'AAC', 'AAF', 'ACB', 'ABA',\n",
       "       'AAG', 'AFT', 'AAM', 'AAJ', 'AAH', 'AAL', 'AA', 'ABD', 'ACO',\n",
       "       'AEL', 'AAR', 'AAK', 'AFS', 'AET', 'AAS', 'ACN', 'ACS', 'ADM',\n",
       "       'AFF', 'AFJ', 'AAZ'], dtype=object)"
      ]
     },
     "execution_count": 39,
     "metadata": {},
     "output_type": "execute_result"
    }
   ],
   "source": [
    "df['destination_center_name'].unique()"
   ]
  },
  {
   "cell_type": "code",
   "execution_count": 40,
   "metadata": {},
   "outputs": [
    {
     "data": {
      "text/plain": [
       "000000    12766\n",
       "562132     4989\n",
       "421302     4596\n",
       "411033     2048\n",
       "501359     1670\n",
       "          ...  \n",
       "591115        1\n",
       "301705        1\n",
       "424101        1\n",
       "783129        1\n",
       "505326        1\n",
       "Name: source_center_number, Length: 1345, dtype: int64"
      ]
     },
     "execution_count": 40,
     "metadata": {},
     "output_type": "execute_result"
    }
   ],
   "source": [
    "df['source_center_number'].value_counts()"
   ]
  },
  {
   "cell_type": "code",
   "execution_count": 41,
   "metadata": {},
   "outputs": [
    {
     "data": {
      "text/html": [
       "<div>\n",
       "<style scoped>\n",
       "    .dataframe tbody tr th:only-of-type {\n",
       "        vertical-align: middle;\n",
       "    }\n",
       "\n",
       "    .dataframe tbody tr th {\n",
       "        vertical-align: top;\n",
       "    }\n",
       "\n",
       "    .dataframe thead th {\n",
       "        text-align: right;\n",
       "    }\n",
       "</style>\n",
       "<table border=\"1\" class=\"dataframe\">\n",
       "  <thead>\n",
       "    <tr style=\"text-align: right;\">\n",
       "      <th></th>\n",
       "      <th>UID</th>\n",
       "      <th>route_type</th>\n",
       "      <th>start_scan_to_end_scan</th>\n",
       "      <th>is_cutoff</th>\n",
       "      <th>cutoff_factor</th>\n",
       "      <th>actual_distance_to_destination</th>\n",
       "      <th>factor</th>\n",
       "      <th>segment_actual_time</th>\n",
       "      <th>segment_osrm_time</th>\n",
       "      <th>segment_osrm_distance</th>\n",
       "      <th>segment_factor</th>\n",
       "      <th>trip-uuid</th>\n",
       "      <th>source_center_number</th>\n",
       "      <th>source_center_name</th>\n",
       "      <th>destination_center_number</th>\n",
       "      <th>destination_center_name</th>\n",
       "      <th>time_elapsed_hours</th>\n",
       "    </tr>\n",
       "  </thead>\n",
       "  <tbody>\n",
       "    <tr>\n",
       "      <th>0</th>\n",
       "      <td>XMsT9clviB</td>\n",
       "      <td>0</td>\n",
       "      <td>86.0</td>\n",
       "      <td>1</td>\n",
       "      <td>27</td>\n",
       "      <td>27.637279</td>\n",
       "      <td>1.428571</td>\n",
       "      <td>16.0</td>\n",
       "      <td>7.0</td>\n",
       "      <td>10.8152</td>\n",
       "      <td>2.285714</td>\n",
       "      <td>153741093647649320</td>\n",
       "      <td>388121</td>\n",
       "      <td>1</td>\n",
       "      <td>388620</td>\n",
       "      <td>AAB</td>\n",
       "      <td>1.428619</td>\n",
       "    </tr>\n",
       "    <tr>\n",
       "      <th>1</th>\n",
       "      <td>1iUuyRUZ2Y</td>\n",
       "      <td>0</td>\n",
       "      <td>86.0</td>\n",
       "      <td>False</td>\n",
       "      <td>39</td>\n",
       "      <td>39.386040</td>\n",
       "      <td>1.545455</td>\n",
       "      <td>6.0</td>\n",
       "      <td>5.0</td>\n",
       "      <td>3.9153</td>\n",
       "      <td>1.200000</td>\n",
       "      <td>153741093647649320</td>\n",
       "      <td>388121</td>\n",
       "      <td>1</td>\n",
       "      <td>388620</td>\n",
       "      <td>AAB</td>\n",
       "      <td>0.971812</td>\n",
       "    </tr>\n",
       "    <tr>\n",
       "      <th>2</th>\n",
       "      <td>wancwiAIU3</td>\n",
       "      <td>0</td>\n",
       "      <td>109.0</td>\n",
       "      <td>1</td>\n",
       "      <td>9</td>\n",
       "      <td>10.403038</td>\n",
       "      <td>1.363636</td>\n",
       "      <td>15.0</td>\n",
       "      <td>11.0</td>\n",
       "      <td>12.1171</td>\n",
       "      <td>1.363636</td>\n",
       "      <td>153741093647649320</td>\n",
       "      <td>388620</td>\n",
       "      <td>2</td>\n",
       "      <td>388320</td>\n",
       "      <td>AAA</td>\n",
       "      <td>3.672645</td>\n",
       "    </tr>\n",
       "    <tr>\n",
       "      <th>3</th>\n",
       "      <td>1tIt8EwJjB</td>\n",
       "      <td>0</td>\n",
       "      <td>109.0</td>\n",
       "      <td>1</td>\n",
       "      <td>36</td>\n",
       "      <td>38.939167</td>\n",
       "      <td>1.948718</td>\n",
       "      <td>10.0</td>\n",
       "      <td>10.0</td>\n",
       "      <td>11.3648</td>\n",
       "      <td>1.000000</td>\n",
       "      <td>153741093647649320</td>\n",
       "      <td>388620</td>\n",
       "      <td>2</td>\n",
       "      <td>388320</td>\n",
       "      <td>AAA</td>\n",
       "      <td>2.672090</td>\n",
       "    </tr>\n",
       "    <tr>\n",
       "      <th>4</th>\n",
       "      <td>W2vL6bJrjt</td>\n",
       "      <td>1</td>\n",
       "      <td>302.0</td>\n",
       "      <td>1</td>\n",
       "      <td>22</td>\n",
       "      <td>23.194334</td>\n",
       "      <td>1.583333</td>\n",
       "      <td>38.0</td>\n",
       "      <td>24.0</td>\n",
       "      <td>26.8622</td>\n",
       "      <td>1.583333</td>\n",
       "      <td>153768492602129387</td>\n",
       "      <td>421302</td>\n",
       "      <td>7</td>\n",
       "      <td>411033</td>\n",
       "      <td>AAA</td>\n",
       "      <td>4.386938</td>\n",
       "    </tr>\n",
       "    <tr>\n",
       "      <th>...</th>\n",
       "      <td>...</td>\n",
       "      <td>...</td>\n",
       "      <td>...</td>\n",
       "      <td>...</td>\n",
       "      <td>...</td>\n",
       "      <td>...</td>\n",
       "      <td>...</td>\n",
       "      <td>...</td>\n",
       "      <td>...</td>\n",
       "      <td>...</td>\n",
       "      <td>...</td>\n",
       "      <td>...</td>\n",
       "      <td>...</td>\n",
       "      <td>...</td>\n",
       "      <td>...</td>\n",
       "      <td>...</td>\n",
       "      <td>...</td>\n",
       "    </tr>\n",
       "    <tr>\n",
       "      <th>72153</th>\n",
       "      <td>L5IrEpNBFb</td>\n",
       "      <td>0</td>\n",
       "      <td>427.0</td>\n",
       "      <td>1</td>\n",
       "      <td>9</td>\n",
       "      <td>11.080143</td>\n",
       "      <td>1.913043</td>\n",
       "      <td>44.0</td>\n",
       "      <td>23.0</td>\n",
       "      <td>15.3398</td>\n",
       "      <td>1.913043</td>\n",
       "      <td>153746066843555182</td>\n",
       "      <td>131028</td>\n",
       "      <td>2</td>\n",
       "      <td>000000</td>\n",
       "      <td>ACB</td>\n",
       "      <td>6.380157</td>\n",
       "    </tr>\n",
       "    <tr>\n",
       "      <th>72154</th>\n",
       "      <td>s5TDXjnN3s</td>\n",
       "      <td>0</td>\n",
       "      <td>427.0</td>\n",
       "      <td>1</td>\n",
       "      <td>18</td>\n",
       "      <td>19.221595</td>\n",
       "      <td>1.600000</td>\n",
       "      <td>12.0</td>\n",
       "      <td>26.0</td>\n",
       "      <td>16.9842</td>\n",
       "      <td>0.461538</td>\n",
       "      <td>153746066843555182</td>\n",
       "      <td>131028</td>\n",
       "      <td>2</td>\n",
       "      <td>000000</td>\n",
       "      <td>ACB</td>\n",
       "      <td>6.180157</td>\n",
       "    </tr>\n",
       "    <tr>\n",
       "      <th>72155</th>\n",
       "      <td>0croXy5yK5</td>\n",
       "      <td>0</td>\n",
       "      <td>427.0</td>\n",
       "      <td>1</td>\n",
       "      <td>27</td>\n",
       "      <td>27.964113</td>\n",
       "      <td>1.400000</td>\n",
       "      <td>13.0</td>\n",
       "      <td>21.0</td>\n",
       "      <td>15.2911</td>\n",
       "      <td>0.619048</td>\n",
       "      <td>153746066843555182</td>\n",
       "      <td>131028</td>\n",
       "      <td>2</td>\n",
       "      <td>000000</td>\n",
       "      <td>ACB</td>\n",
       "      <td>5.947379</td>\n",
       "    </tr>\n",
       "    <tr>\n",
       "      <th>72156</th>\n",
       "      <td>P0okvBa2Ik</td>\n",
       "      <td>0</td>\n",
       "      <td>427.0</td>\n",
       "      <td>1</td>\n",
       "      <td>45</td>\n",
       "      <td>45.258278</td>\n",
       "      <td>1.566667</td>\n",
       "      <td>12.0</td>\n",
       "      <td>12.0</td>\n",
       "      <td>8.1858</td>\n",
       "      <td>1.000000</td>\n",
       "      <td>153746066843555182</td>\n",
       "      <td>131028</td>\n",
       "      <td>2</td>\n",
       "      <td>000000</td>\n",
       "      <td>ACB</td>\n",
       "      <td>5.547657</td>\n",
       "    </tr>\n",
       "    <tr>\n",
       "      <th>72157</th>\n",
       "      <td>OVi46puumU</td>\n",
       "      <td>0</td>\n",
       "      <td>427.0</td>\n",
       "      <td>1</td>\n",
       "      <td>63</td>\n",
       "      <td>66.163591</td>\n",
       "      <td>1.590909</td>\n",
       "      <td>20.0</td>\n",
       "      <td>34.0</td>\n",
       "      <td>20.7053</td>\n",
       "      <td>0.588235</td>\n",
       "      <td>153746066843555182</td>\n",
       "      <td>131028</td>\n",
       "      <td>2</td>\n",
       "      <td>000000</td>\n",
       "      <td>ACB</td>\n",
       "      <td>4.780434</td>\n",
       "    </tr>\n",
       "  </tbody>\n",
       "</table>\n",
       "<p>72158 rows × 17 columns</p>\n",
       "</div>"
      ],
      "text/plain": [
       "              UID route_type  start_scan_to_end_scan is_cutoff  cutoff_factor  \\\n",
       "0      XMsT9clviB          0                    86.0         1             27   \n",
       "1      1iUuyRUZ2Y          0                    86.0     False             39   \n",
       "2      wancwiAIU3          0                   109.0         1              9   \n",
       "3      1tIt8EwJjB          0                   109.0         1             36   \n",
       "4      W2vL6bJrjt          1                   302.0         1             22   \n",
       "...           ...        ...                     ...       ...            ...   \n",
       "72153  L5IrEpNBFb          0                   427.0         1              9   \n",
       "72154  s5TDXjnN3s          0                   427.0         1             18   \n",
       "72155  0croXy5yK5          0                   427.0         1             27   \n",
       "72156  P0okvBa2Ik          0                   427.0         1             45   \n",
       "72157  OVi46puumU          0                   427.0         1             63   \n",
       "\n",
       "       actual_distance_to_destination    factor  segment_actual_time  \\\n",
       "0                           27.637279  1.428571                 16.0   \n",
       "1                           39.386040  1.545455                  6.0   \n",
       "2                           10.403038  1.363636                 15.0   \n",
       "3                           38.939167  1.948718                 10.0   \n",
       "4                           23.194334  1.583333                 38.0   \n",
       "...                               ...       ...                  ...   \n",
       "72153                       11.080143  1.913043                 44.0   \n",
       "72154                       19.221595  1.600000                 12.0   \n",
       "72155                       27.964113  1.400000                 13.0   \n",
       "72156                       45.258278  1.566667                 12.0   \n",
       "72157                       66.163591  1.590909                 20.0   \n",
       "\n",
       "       segment_osrm_time  segment_osrm_distance  segment_factor  \\\n",
       "0                    7.0                10.8152        2.285714   \n",
       "1                    5.0                 3.9153        1.200000   \n",
       "2                   11.0                12.1171        1.363636   \n",
       "3                   10.0                11.3648        1.000000   \n",
       "4                   24.0                26.8622        1.583333   \n",
       "...                  ...                    ...             ...   \n",
       "72153               23.0                15.3398        1.913043   \n",
       "72154               26.0                16.9842        0.461538   \n",
       "72155               21.0                15.2911        0.619048   \n",
       "72156               12.0                 8.1858        1.000000   \n",
       "72157               34.0                20.7053        0.588235   \n",
       "\n",
       "                trip-uuid source_center_number  source_center_name  \\\n",
       "0      153741093647649320               388121                   1   \n",
       "1      153741093647649320               388121                   1   \n",
       "2      153741093647649320               388620                   2   \n",
       "3      153741093647649320               388620                   2   \n",
       "4      153768492602129387               421302                   7   \n",
       "...                   ...                  ...                 ...   \n",
       "72153  153746066843555182               131028                   2   \n",
       "72154  153746066843555182               131028                   2   \n",
       "72155  153746066843555182               131028                   2   \n",
       "72156  153746066843555182               131028                   2   \n",
       "72157  153746066843555182               131028                   2   \n",
       "\n",
       "      destination_center_number destination_center_name  time_elapsed_hours  \n",
       "0                        388620                     AAB            1.428619  \n",
       "1                        388620                     AAB            0.971812  \n",
       "2                        388320                     AAA            3.672645  \n",
       "3                        388320                     AAA            2.672090  \n",
       "4                        411033                     AAA            4.386938  \n",
       "...                         ...                     ...                 ...  \n",
       "72153                    000000                     ACB            6.380157  \n",
       "72154                    000000                     ACB            6.180157  \n",
       "72155                    000000                     ACB            5.947379  \n",
       "72156                    000000                     ACB            5.547657  \n",
       "72157                    000000                     ACB            4.780434  \n",
       "\n",
       "[72158 rows x 17 columns]"
      ]
     },
     "execution_count": 41,
     "metadata": {},
     "output_type": "execute_result"
    }
   ],
   "source": [
    "encoder = LabelEncoder()\n",
    "\n",
    "# fit and transform the 'Color' column\n",
    "df['source_center_name'] = encoder.fit_transform(df['source_center_name'])\n",
    "df"
   ]
  },
  {
   "cell_type": "code",
   "execution_count": 42,
   "metadata": {},
   "outputs": [],
   "source": [
    "df['destination_center_name'] = encoder.fit_transform(df['destination_center_name'])"
   ]
  },
  {
   "cell_type": "code",
   "execution_count": null,
   "metadata": {},
   "outputs": [],
   "source": [
    "df"
   ]
  },
  {
   "cell_type": "code",
   "execution_count": 43,
   "metadata": {},
   "outputs": [
    {
     "data": {
      "text/plain": [
       "Index(['UID', 'route_type', 'start_scan_to_end_scan', 'is_cutoff',\n",
       "       'cutoff_factor', 'actual_distance_to_destination', 'factor',\n",
       "       'segment_actual_time', 'segment_osrm_time', 'segment_osrm_distance',\n",
       "       'segment_factor', 'trip-uuid', 'source_center_number',\n",
       "       'source_center_name', 'destination_center_number',\n",
       "       'destination_center_name', 'time_elapsed_hours'],\n",
       "      dtype='object')"
      ]
     },
     "execution_count": 43,
     "metadata": {},
     "output_type": "execute_result"
    }
   ],
   "source": [
    "df.columns"
   ]
  },
  {
   "cell_type": "code",
   "execution_count": null,
   "metadata": {},
   "outputs": [],
   "source": [
    "#cols = ['UID','trip-uuid','route_type', 'start_scan_to_end_scan', 'is_cutoff',\n",
    "#       'cutoff_factor', 'actual_distance_to_destination', 'factor',\n",
    "#       'segment_actual_time', 'segment_osrm_time', 'segment_osrm_distance',\n",
    "#       'segment_factor', 'source_center_number',\n",
    "#       'source_center_name', 'destination_center_number',\n",
    "#       'destination_center_name', 'time_elapsed_hours','actual_time']\n",
    "\n",
    "cols = ['UID','trip-uuid','route_type', 'start_scan_to_end_scan', 'is_cutoff',\n",
    "       'cutoff_factor', 'actual_distance_to_destination', 'factor',\n",
    "       'segment_actual_time', 'segment_osrm_time', 'segment_osrm_distance',\n",
    "       'segment_factor', 'source_center_number',\n",
    "       'source_center_name', 'destination_center_number',\n",
    "       'destination_center_name', 'time_elapsed_hours']\n",
    "\n",
    "df = df[cols]\n",
    "df"
   ]
  },
  {
   "cell_type": "code",
   "execution_count": null,
   "metadata": {},
   "outputs": [],
   "source": [
    "df.to_csv('log/test_data.csv',index=False)"
   ]
  },
  {
   "cell_type": "code",
   "execution_count": null,
   "metadata": {},
   "outputs": [],
   "source": [
    "df['route_schedule_uuid'] = df['route_schedule_uuid'].str.replace('thanos::sroute:', '')\n",
    "df[['route_uuid_1','route_uuid_2','route_uuid_3','route_uuid_4','route_uuid_5']] = df['route_schedule_uuid'].str.split('-', expand=True)\n",
    "print(len(pd.unique(df['route_uuid_1'])), len(pd.unique(df['route_uuid_2'])), len(pd.unique(df['route_uuid_3'])), len(pd.unique(df['route_uuid_4'])), len(pd.unique(df['route_uuid_5'])))\n",
    "encoder = OneHotEncoder()\n",
    "df_route_uuid_1 = pd.DataFrame(encoder.fit_transform(df[['route_uuid_1']]).toarray())\n",
    "df_roite_uuid_1 = df_route_uuid_1.add_prefix('route_uuid_1_')\n",
    "df.join(df_route_uuid_1)\n",
    "encoder = OneHotEncoder()\n",
    "df_route_uuid_2 = pd.DataFrame(encoder.fit_transform(df[['route_uuid_2']]).toarray())\n",
    "df_roite_uuid_2 = df_route_uuid_2.add_prefix('route_uuid_2_')\n",
    "df.join(df_route_uuid_1)\n",
    "encoder = OneHotEncoder()\n",
    "df_route_uuid_3 = pd.DataFrame(encoder.fit_transform(df[['route_uuid_3']]).toarray())\n",
    "df_roite_uuid_3 = df_route_uuid_3.add_prefix('route_uuid_3_')\n",
    "df.join(df_route_uuid_1)\n",
    "encoder = OneHotEncoder()\n",
    "df_route_uuid_4 = pd.DataFrame(encoder.fit_transform(df[['route_uuid_4']]).toarray())\n",
    "df_roite_uuid_4 = df_route_uuid_4.add_prefix('route_uuid_4_')\n",
    "df.join(df_route_uuid_1)\n",
    "encoder = OneHotEncoder()\n",
    "df_route_uuid_5 = pd.DataFrame(encoder.fit_transform(df[['route_uuid_5']]).toarray())\n",
    "df_roite_uuid_5 = df_route_uuid_5.add_prefix('route_uuid_5_')\n",
    "df.join(df_route_uuid_1)\n",
    "df = df.drop(['route_schedule_uuid','route_uuid_1','route_uuid_2','route_uuid_3','route_uuid_4','route_uuid_5'], axis=1)"
   ]
  }
 ],
 "metadata": {
  "kernelspec": {
   "display_name": "Python 3",
   "language": "python",
   "name": "python3"
  },
  "language_info": {
   "codemirror_mode": {
    "name": "ipython",
    "version": 3
   },
   "file_extension": ".py",
   "mimetype": "text/x-python",
   "name": "python",
   "nbconvert_exporter": "python",
   "pygments_lexer": "ipython3",
   "version": "3.10.2"
  },
  "orig_nbformat": 4
 },
 "nbformat": 4,
 "nbformat_minor": 2
}
