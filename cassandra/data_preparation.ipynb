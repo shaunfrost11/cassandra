{
 "cells": [
  {
   "cell_type": "code",
   "execution_count": 524,
   "metadata": {},
   "outputs": [],
   "source": [
    "import pandas as pd"
   ]
  },
  {
   "cell_type": "code",
   "execution_count": 568,
   "metadata": {},
   "outputs": [],
   "source": [
    "df_train = pd.read_csv('dataset/train_data.csv')\n",
    "df_test = pd.read_csv('dataset/test_data.csv')"
   ]
  },
  {
   "cell_type": "code",
   "execution_count": 545,
   "metadata": {},
   "outputs": [],
   "source": [
    "from sklearn.preprocessing import LabelBinarizer\n",
    "from sklearn.preprocessing import OneHotEncoder"
   ]
  },
  {
   "cell_type": "code",
   "execution_count": 527,
   "metadata": {},
   "outputs": [],
   "source": [
    "df_train[['trip_creation_date','trip_creation_clk']] = df_train['trip_creation_time'].str.split(' ', expand=True)\n",
    "df_train[['trip_creation_year','trip_creation_month','trip_creation_day']] = df_train['trip_creation_date'].str.split('-', expand=True)\n",
    "df_train[['trip_creation_hour','trip_creation_min','trip_creation_sec']] = df_train['trip_creation_clk'].str.split(':', expand=True)\n",
    "df_train[['trip_creation_year','trip_creation_month','trip_creation_day','trip_creation_hour','trip_creation_min','trip_creation_sec']] = df_train[['trip_creation_year','trip_creation_month','trip_creation_day','trip_creation_hour','trip_creation_min','trip_creation_sec']].astype(float)\n",
    "df_train = df_train.drop(['trip_creation_time','trip_creation_date','trip_creation_clk'], axis=1)\n",
    "\n",
    "df_test[['trip_creation_date','trip_creation_clk']] = df_test['trip_creation_time'].str.split(' ', expand=True)\n",
    "df_test[['trip_creation_year','trip_creation_month','trip_creation_day']] = df_test['trip_creation_date'].str.split('-', expand=True)\n",
    "df_test[['trip_creation_hour','trip_creation_min','trip_creation_sec']] = df_test['trip_creation_clk'].str.split(':', expand=True)\n",
    "df_test[['trip_creation_year','trip_creation_month','trip_creation_day','trip_creation_hour','trip_creation_min','trip_creation_sec']] = df_test[['trip_creation_year','trip_creation_month','trip_creation_day','trip_creation_hour','trip_creation_min','trip_creation_sec']].astype(float)\n",
    "df_test = df_test.drop(['trip_creation_time','trip_creation_date','trip_creation_clk'], axis=1)"
   ]
  },
  {
   "cell_type": "code",
   "execution_count": 528,
   "metadata": {},
   "outputs": [],
   "source": [
    "df_train = df_train.drop(['route_schedule_uuid'], axis=1)\n",
    "df_test = df_test.drop(['route_schedule_uuid'], axis=1)"
   ]
  },
  {
   "cell_type": "code",
   "execution_count": 529,
   "metadata": {},
   "outputs": [],
   "source": [
    "encoder = LabelBinarizer()\n",
    "\n",
    "df_train['route_type'] = encoder.fit_transform(df_train['route_type'])\n",
    "df_test['route_type'] = encoder.transform(df_test['route_type'])"
   ]
  },
  {
   "cell_type": "code",
   "execution_count": 530,
   "metadata": {},
   "outputs": [],
   "source": [
    "df_train = df_train.drop(['trip_uuid'], axis=1)\n",
    "\n",
    "df_test = df_test.drop(['trip_uuid'], axis=1)"
   ]
  },
  {
   "cell_type": "code",
   "execution_count": 531,
   "metadata": {},
   "outputs": [],
   "source": [
    "'''\n",
    "df_train['source_center'] = df_train['source_center'].str.replace('IND', '')\n",
    "df_train['source_center_number'] = df_train['source_center'].str[:6]\n",
    "df_train['source_center_name'] = df_train['source_center'].str[6:]\n",
    "df_train = df_train.drop(['source_center','source_center_number'], axis=1)\n",
    "encoder = OneHotEncoder(handle_unknown='ignore')\n",
    "df_source_center_name = pd.DataFrame(encoder.fit_transform(df_train[['source_center_name']]).toarray())\n",
    "df_source_center_name = df_source_center_name.add_prefix('source_center_name_')\n",
    "df_train = df_train.join(df_source_center_name)\n",
    "df_train = df_train.drop(['source_center_name'], axis=1)\n",
    "\n",
    "df_test['source_center'] = df_test['source_center'].str.replace('IND', '')\n",
    "df_test['source_center_number'] = df_test['source_center'].str[:6]\n",
    "df_test['source_center_name'] = df_test['source_center'].str[6:]\n",
    "df_test = df_test.drop(['source_center','source_center_number'], axis=1)\n",
    "df_source_center_name = pd.DataFrame(encoder.transform(df_test[['source_center_name']]).toarray())\n",
    "df_source_center_name = df_source_center_name.add_prefix('source_center_name_')\n",
    "df_test = df_test.join(df_source_center_name)\n",
    "df_test = df_test.drop(['source_center_name'], axis=1)\n",
    "'''\n",
    "\n",
    "df_train = df_train.drop(['source_center'], axis=1)\n",
    "\n",
    "df_test = df_test.drop(['source_center'], axis=1)"
   ]
  },
  {
   "cell_type": "code",
   "execution_count": null,
   "metadata": {},
   "outputs": [],
   "source": [
    "'''\n",
    "df_train['source_name'] = df_train['source_name'].str.replace('(', ' ')\n",
    "df_train['source_name'] = df_train['source_name'].str.replace(')', '')\n",
    "df_train[['source_name_gali','source_name_city']] = df_train['source_name'].str.split('  ', expand=True)\n",
    "df_train = df_train.drop(['source_name','source_name_gali'], axis=1)\n",
    "encoder = OneHotEncoder(handle_unknown='ignore')\n",
    "df_source_name_city = pd.DataFrame(encoder.fit_transform(df_train[['source_name_city']]).toarray())\n",
    "df_source_name_city = df_source_name_city.add_prefix('source_name_city_')\n",
    "df_train = df_train.join(df_source_name_city)\n",
    "df_train = df_train.drop(['source_name_city'], axis=1)\n",
    "\n",
    "df_test['source_name'] = df_test['source_name'].str.replace('(', ' ')\n",
    "df_test['source_name'] = df_test['source_name'].str.replace(')', '')\n",
    "df_test[['source_name_gali','source_name_city']] = df_test['source_name'].str.split('  ', expand=True)\n",
    "df_test = df_test.drop(['source_name','source_name_gali'], axis=1)\n",
    "df_source_name_city = pd.DataFrame(encoder.transform(df_test[['source_name_city']]).toarray())\n",
    "df_source_name_city = df_source_name_city.add_prefix('source_name_city_')\n",
    "df_test = df_test.join(df_source_name_city)\n",
    "df_test = df_test.drop(['source_name_city'], axis=1)\n",
    "'''"
   ]
  },
  {
   "cell_type": "code",
   "execution_count": 533,
   "metadata": {},
   "outputs": [],
   "source": [
    "df_train['destination_center'] = df_train['destination_center'].str.replace('IND', '')\n",
    "df_train['destination_center_number'] = df_train['destination_center'].str[:6]\n",
    "df_train['destination_center_name'] = df_train['destination_center'].str[6:]\n",
    "df_train = df_train.drop(['destination_center','destination_center_number'], axis=1)\n",
    "encoder = OneHotEncoder(handle_unknown='ignore')\n",
    "df_source_center_name = pd.DataFrame(encoder.fit_transform(df_train[['destination_center_name']]).toarray())\n",
    "df_source_center_name = df_source_center_name.add_prefix('destination_center_name_')\n",
    "df_train = df_train.join(df_source_center_name)\n",
    "df_train = df_train.drop(['destination_center_name'], axis=1)\n",
    "\n",
    "df_test['destination_center'] = df_test['destination_center'].str.replace('IND', '')\n",
    "df_test['destination_center_number'] = df_test['destination_center'].str[:6]\n",
    "df_test['destination_center_name'] = df_test['destination_center'].str[6:]\n",
    "df_test = df_test.drop(['destination_center','destination_center_number'], axis=1)\n",
    "df_source_center_name = pd.DataFrame(encoder.transform(df_test[['destination_center_name']]).toarray())\n",
    "df_source_center_name = df_source_center_name.add_prefix('destination_center_name_')\n",
    "df_test = df_test.join(df_source_center_name)\n",
    "df_test = df_test.drop(['destination_center_name'], axis=1)"
   ]
  },
  {
   "cell_type": "code",
   "execution_count": null,
   "metadata": {},
   "outputs": [],
   "source": [
    "df_train['destination_name'] = df_train['destination_name'].str.replace('(', ' ')\n",
    "df_train['destination_name'] = df_train['destination_name'].str.replace(')', '')\n",
    "df_train[['destination_name_gali','destination_name_city']] = df_train['destination_name'].str.split('  ', expand=True)\n",
    "df_train = df_train.drop(['destination_name','destination_name_gali'], axis=1)\n",
    "encoder = OneHotEncoder(handle_unknown='ignore')\n",
    "df_source_name_city = pd.DataFrame(encoder.fit_transform(df_train[['destination_name_city']]).toarray())\n",
    "df_source_name_city = df_source_name_city.add_prefix('destination_name_city_')\n",
    "df_train = df_train.join(df_source_name_city)\n",
    "df_train = df_train.drop(['destination_name_city'], axis=1)\n",
    "\n",
    "df_test['destination_name'] = df_test['destination_name'].str.replace('(', ' ')\n",
    "df_test['destination_name'] = df_test['destination_name'].str.replace(')', '')\n",
    "df_test[['destination_name_gali','destination_name_city']] = df_test['destination_name'].str.split('  ', expand=True)\n",
    "df_test = df_test.drop(['destination_name','destination_name_gali'], axis=1)\n",
    "df_source_name_city = pd.DataFrame(encoder.transform(df_test[['destination_name_city']]).toarray())\n",
    "df_source_name_city = df_source_name_city.add_prefix('destination_name_city_')\n",
    "df_test = df_test.join(df_source_name_city)\n",
    "df_test = df_test.drop(['destination_name_city'], axis=1)"
   ]
  },
  {
   "cell_type": "code",
   "execution_count": null,
   "metadata": {},
   "outputs": [],
   "source": [
    "df_train[['od_start_date','od_start_clk']] = df_train['od_start_time'].str.split(' ', expand=True)\n",
    "df_train[['od_start_year','od_start_month','od_start_day']] = df_train['od_start_date'].str.split('-', expand=True)\n",
    "df_train[['od_start_hour','od_start_min','od_start_sec']] = df_train['od_start_clk'].str.split(':', expand=True)\n",
    "df_train[['od_start_year','od_start_month','od_start_day','od_start_hour','od_start_min','od_start_sec']] = df_train[['od_start_year','od_start_month','od_start_day','od_start_hour','od_start_min','od_start_sec']].astype(float)_train\n",
    "df_train = df_train.drop(['od_start_time','od_start_date','od_start_clk'], axis=1)\n",
    "\n",
    "df_test[['od_start_date','od_start_clk']] = df_test['od_start_time'].str.split(' ', expand=True)\n",
    "df_test[['od_start_year','od_start_month','od_start_day']] = df_test['od_start_date'].str.split('-', expand=True)\n",
    "df_test[['od_start_hour','od_start_min','od_start_sec']] = df_test['od_start_clk'].str.split(':', expand=True)\n",
    "df_test[['od_start_year','od_start_month','od_start_day','od_start_hour','od_start_min','od_start_sec']] = df_t[['od_start_year','od_start_month','od_start_day','od_start_hour','od_start_min','od_start_sec']].astype(float)_train\n",
    "df_test = df_test.drop(['od_start_time','od_start_date','od_start_clk'], axis=1)"
   ]
  },
  {
   "cell_type": "code",
   "execution_count": 536,
   "metadata": {},
   "outputs": [],
   "source": [
    "df_train[['od_end_date','od_end_clk']] = df_train['od_end_time'].str.split(' ', expand=True)\n",
    "df_train[['od_end_year','od_end_month','od_end_day']] = df_train['od_end_date'].str.split('-', expand=True)\n",
    "df_train[['od_end_hour','od_end_min','od_end_sec']] = df_train['od_end_clk'].str.split(':', expand=True)\n",
    "df_train[['od_end_year','od_end_month','od_end_day','od_end_hour','od_end_min','od_end_sec']] = df_train[['od_end_year','od_end_month','od_end_day','od_end_hour','od_end_min','od_end_sec']].astype(float)\n",
    "df_train = df_train.drop(['od_end_time','od_end_date','od_end_clk'], axis=1)\n",
    "\n",
    "df_test[['od_end_date','od_end_clk']] = df_test['od_end_time'].str.split(' ', expand=True)\n",
    "df_test[['od_end_year','od_end_month','od_end_day']] = df_test['od_end_date'].str.split('-', expand=True)\n",
    "df_test[['od_end_hour','od_end_min','od_end_sec']] = df_test['od_end_clk'].str.split(':', expand=True)\n",
    "df_test[['od_end_year','od_end_month','od_end_day','od_end_hour','od_end_min','od_end_sec']] = df_test[['od_end_year','od_end_month','od_end_day','od_end_hour','od_end_min','od_end_sec']].astype(float)\n",
    "df_test = df_test.drop(['od_end_time','od_end_date','od_end_clk'], axis=1)"
   ]
  },
  {
   "cell_type": "code",
   "execution_count": 537,
   "metadata": {},
   "outputs": [],
   "source": [
    "encoder = LabelBinarizer()\n",
    "df_train['is_cutoff'] = encoder.fit_transform(df_train['is_cutoff'])\n",
    "\n",
    "df_test['is_cutoff'] = encoder.transform(df_test['is_cutoff'])"
   ]
  },
  {
   "cell_type": "code",
   "execution_count": 538,
   "metadata": {},
   "outputs": [],
   "source": [
    "df_train[['cutoff_timestamp_date','cutoff_timestamp_clk']] = df_train['cutoff_timestamp'].str.split(' ', expand=True)\n",
    "df_train[['cutoff_timestamp_year','cutoff_timestamp_month','cutoff_timestamp_day']] = df_train['cutoff_timestamp_date'].str.split('-', expand=True)\n",
    "df_train[['cutoff_timestamp_hour','cutoff_timestamp_min','cutoff_timestamp_sec']] = df_train['cutoff_timestamp_clk'].str.split(':', expand=True)\n",
    "df_train[['cutoff_timestamp_year','cutoff_timestamp_month','cutoff_timestamp_day','cutoff_timestamp_hour','cutoff_timestamp_min','cutoff_timestamp_sec']] = df_train[['cutoff_timestamp_year','cutoff_timestamp_month','cutoff_timestamp_day','cutoff_timestamp_hour','cutoff_timestamp_min','cutoff_timestamp_sec']].astype(float)\n",
    "df_train = df_train.drop(['cutoff_timestamp','cutoff_timestamp_date','cutoff_timestamp_clk'], axis=1)\n",
    "\n",
    "df_test[['cutoff_timestamp_date','cutoff_timestamp_clk']] = df_test['cutoff_timestamp'].str.split(' ', expand=True)\n",
    "df_test[['cutoff_timestamp_year','cutoff_timestamp_month','cutoff_timestamp_day']] = df_test['cutoff_timestamp_date'].str.split('-', expand=True)\n",
    "df_test[['cutoff_timestamp_hour','cutoff_timestamp_min','cutoff_timestamp_sec']] = df_test['cutoff_timestamp_clk'].str.split(':', expand=True)\n",
    "df_test[['cutoff_timestamp_year','cutoff_timestamp_month','cutoff_timestamp_day','cutoff_timestamp_hour','cutoff_timestamp_min','cutoff_timestamp_sec']] = df_test[['cutoff_timestamp_year','cutoff_timestamp_month','cutoff_timestamp_day','cutoff_timestamp_hour','cutoff_timestamp_min','cutoff_timestamp_sec']].astype(float)\n",
    "df_test = df_test.drop(['cutoff_timestamp','cutoff_timestamp_date','cutoff_timestamp_clk'], axis=1)"
   ]
  },
  {
   "cell_type": "code",
   "execution_count": 539,
   "metadata": {},
   "outputs": [],
   "source": [
    "df_train = df_train.interpolate(method ='nearest', fill_value='extrapolate', limit_direction ='forward')\n",
    "\n",
    "df_test = df_test.interpolate(method ='nearest', limit_direction ='forward')"
   ]
  },
  {
   "cell_type": "code",
   "execution_count": 540,
   "metadata": {},
   "outputs": [],
   "source": [
    "import numpy as np"
   ]
  },
  {
   "cell_type": "code",
   "execution_count": 541,
   "metadata": {},
   "outputs": [],
   "source": [
    "x_train_df = df_train.drop(['UID','actual_time'], axis=1)\n",
    "x_train = x_train_df.to_numpy()\n",
    "#row_max = x_train.max(axis=1)\n",
    "#x_train = x_train/row_max[:, np.newaxis]\n",
    "y_train_df = df_train['actual_time']\n",
    "y_train = y_train_df.to_numpy()\n",
    "\n",
    "x_test_df = df_test.drop(['UID'], axis=1)\n",
    "x_test = x_test_df.to_numpy()\n",
    "#x_test = x_test/row_max[:, np.newaxis]"
   ]
  },
  {
   "cell_type": "code",
   "execution_count": 542,
   "metadata": {},
   "outputs": [],
   "source": [
    "np.save('log/x_train', x_train)\n",
    "np.save('log/y_train', y_train)\n",
    "\n",
    "np.save('log/x_test', x_test)\n",
    "df_test['UID'].to_csv('log/pred.csv', index=False)"
   ]
  }
 ],
 "metadata": {
  "kernelspec": {
   "display_name": "Python 3",
   "language": "python",
   "name": "python3"
  },
  "language_info": {
   "name": "python",
   "version": "3.10.2"
  },
  "orig_nbformat": 4
 },
 "nbformat": 4,
 "nbformat_minor": 2
}
